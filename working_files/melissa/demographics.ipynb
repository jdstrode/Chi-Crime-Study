{
 "cells": [
  {
   "cell_type": "markdown",
   "metadata": {},
   "source": [
    "PROJECT TITLE:\n",
    "An Analysis of Police Officer Stop Data"
   ]
  },
  {
   "cell_type": "markdown",
   "metadata": {},
   "source": [
    "TEAM MEMBERS:\n",
    "J.D. Strode\n",
    "Vaidehee Shah\n",
    "Octavio Origel\n",
    "Peter Sparks\n",
    "Melissa Mongrella\n"
   ]
  },
  {
   "cell_type": "markdown",
   "metadata": {},
   "source": [
    "PROJECT DESCRIPTION/OUTLINE:\n",
    "Our project is analyzing the The Stanford Open Project's Chicago dataset. \n",
    "We have chosen four questions from the dataset to further understand the nuances of traffic stops in the city.\n",
    "    "
   ]
  },
  {
   "cell_type": "markdown",
   "metadata": {},
   "source": [
    "RESEARCH QUESTIONS TO ANSWER:\n",
    "\n",
    "1) How does the race and gender of the police officer affect the race and gender of the person getting stopped?\n",
    "2) What area of Chicago do the most stops occur?\n",
    "3) What are the most common time points for a stop to occur?\n",
    "4) Was a citation issued?\n",
    "5) What are the general demographics of people who get pulled over?"
   ]
  },
  {
   "cell_type": "markdown",
   "metadata": {},
   "source": [
    "DATASETS TO BE USED:\n",
    "We will be using the Stanford Opening Policing Project (https://openpolicing.stanford.edu/)"
   ]
  },
  {
   "cell_type": "markdown",
   "metadata": {},
   "source": [
    "ROUGH BREAKDOWN OF TASKS:\n",
    "J.D. Strode - Will look at demographic relationships (Question 1)\n",
    "Vaidehee Shah - Will look at the most common time points for a stop to occur (Question 3)\n",
    "Octavio Origel - Will examine if age influences the occurrence of citations or arrests \n",
    "Peter Sparks - Will look at location data\n",
    "Melissa Mongrella - Will look at the general demographics of people who get pulled over"
   ]
  },
  {
   "cell_type": "code",
   "execution_count": 1,
   "metadata": {},
   "outputs": [],
   "source": [
    "# Dependencies and Setup\n",
    "import matplotlib.pyplot as plt\n",
    "import seaborn as sns\n",
    "plt.style.use(\"seaborn\")\n",
    "import pandas as pd\n",
    "import numpy as np\n",
    "import requests\n",
    "import time\n",
    "from scipy.stats import linregress\n",
    "from scipy.stats import ttest_ind\n",
    "from scipy import stats as st\n",
    "import json"
   ]
  },
  {
   "cell_type": "code",
   "execution_count": 2,
   "metadata": {},
   "outputs": [
    {
     "name": "stderr",
     "output_type": "stream",
     "text": [
      "/Users/mongrella/opt/anaconda3/lib/python3.8/site-packages/IPython/core/interactiveshell.py:3146: DtypeWarning: Columns (9,16,17,19,20) have mixed types.Specify dtype option on import or set low_memory=False.\n",
      "  has_raised = await self.run_ast_nodes(code_ast.body, cell_name,\n"
     ]
    }
   ],
   "source": [
    "# File to Load (Remember to Change These)\n",
    "crime_data = \"crime_data/chicagodata.csv\"\n",
    "\n",
    "# Read Purchasing File and store into Pandas data frame\n",
    "df = pd.read_csv(crime_data, encoding=\"utf-8\")"
   ]
  },
  {
   "cell_type": "code",
   "execution_count": 3,
   "metadata": {},
   "outputs": [
    {
     "data": {
      "text/html": [
       "<div>\n",
       "<style scoped>\n",
       "    .dataframe tbody tr th:only-of-type {\n",
       "        vertical-align: middle;\n",
       "    }\n",
       "\n",
       "    .dataframe tbody tr th {\n",
       "        vertical-align: top;\n",
       "    }\n",
       "\n",
       "    .dataframe thead th {\n",
       "        text-align: right;\n",
       "    }\n",
       "</style>\n",
       "<table border=\"1\" class=\"dataframe\">\n",
       "  <thead>\n",
       "    <tr style=\"text-align: right;\">\n",
       "      <th></th>\n",
       "      <th>raw_row_number</th>\n",
       "      <th>date</th>\n",
       "      <th>time</th>\n",
       "      <th>location</th>\n",
       "      <th>lat</th>\n",
       "      <th>lng</th>\n",
       "      <th>subject_age</th>\n",
       "      <th>subject_race</th>\n",
       "      <th>subject_sex</th>\n",
       "      <th>officer_id_hash</th>\n",
       "      <th>...</th>\n",
       "      <th>officer_race</th>\n",
       "      <th>officer_sex</th>\n",
       "      <th>officer_years_of_service</th>\n",
       "      <th>type</th>\n",
       "      <th>violation</th>\n",
       "      <th>arrest_made</th>\n",
       "      <th>citation_issued</th>\n",
       "      <th>outcome</th>\n",
       "      <th>raw_race</th>\n",
       "      <th>raw_driver_race</th>\n",
       "    </tr>\n",
       "  </thead>\n",
       "  <tbody>\n",
       "    <tr>\n",
       "      <th>0</th>\n",
       "      <td>1</td>\n",
       "      <td>2012-01-06</td>\n",
       "      <td>09:00:00</td>\n",
       "      <td>700 LINCOLN W</td>\n",
       "      <td>NaN</td>\n",
       "      <td>NaN</td>\n",
       "      <td>23.0</td>\n",
       "      <td>black</td>\n",
       "      <td>male</td>\n",
       "      <td>a6d791f976</td>\n",
       "      <td>...</td>\n",
       "      <td>white</td>\n",
       "      <td>male</td>\n",
       "      <td>17.0</td>\n",
       "      <td>vehicular</td>\n",
       "      <td>DRIVING ON SUSPENDED LICENSE</td>\n",
       "      <td>True</td>\n",
       "      <td>NaN</td>\n",
       "      <td>arrest</td>\n",
       "      <td>BLACK</td>\n",
       "      <td>NaN</td>\n",
       "    </tr>\n",
       "    <tr>\n",
       "      <th>1</th>\n",
       "      <td>2</td>\n",
       "      <td>2012-01-01</td>\n",
       "      <td>00:00:00</td>\n",
       "      <td>NaN</td>\n",
       "      <td>NaN</td>\n",
       "      <td>NaN</td>\n",
       "      <td>23.0</td>\n",
       "      <td>hispanic</td>\n",
       "      <td>male</td>\n",
       "      <td>81da9fab7e</td>\n",
       "      <td>...</td>\n",
       "      <td>white</td>\n",
       "      <td>male</td>\n",
       "      <td>2.0</td>\n",
       "      <td>vehicular</td>\n",
       "      <td>DRIVING/NEVER ISSUED LICENSE</td>\n",
       "      <td>True</td>\n",
       "      <td>NaN</td>\n",
       "      <td>arrest</td>\n",
       "      <td>HISPANIC</td>\n",
       "      <td>NaN</td>\n",
       "    </tr>\n",
       "    <tr>\n",
       "      <th>2</th>\n",
       "      <td>3</td>\n",
       "      <td>2012-01-01</td>\n",
       "      <td>01:00:00</td>\n",
       "      <td>0 NORTHWEST HWY &amp; HILLSIDE RD S</td>\n",
       "      <td>NaN</td>\n",
       "      <td>NaN</td>\n",
       "      <td>38.0</td>\n",
       "      <td>white</td>\n",
       "      <td>female</td>\n",
       "      <td>NaN</td>\n",
       "      <td>...</td>\n",
       "      <td>NaN</td>\n",
       "      <td>NaN</td>\n",
       "      <td>NaN</td>\n",
       "      <td>vehicular</td>\n",
       "      <td>DRIVING ON SUSPENDED LICENSE</td>\n",
       "      <td>True</td>\n",
       "      <td>NaN</td>\n",
       "      <td>arrest</td>\n",
       "      <td>WHITE</td>\n",
       "      <td>NaN</td>\n",
       "    </tr>\n",
       "    <tr>\n",
       "      <th>3</th>\n",
       "      <td>4</td>\n",
       "      <td>2012-01-01</td>\n",
       "      <td>01:00:00</td>\n",
       "      <td>108 LAMON AVE N</td>\n",
       "      <td>NaN</td>\n",
       "      <td>NaN</td>\n",
       "      <td>35.0</td>\n",
       "      <td>black</td>\n",
       "      <td>male</td>\n",
       "      <td>048359e7c8</td>\n",
       "      <td>...</td>\n",
       "      <td>black</td>\n",
       "      <td>male</td>\n",
       "      <td>8.0</td>\n",
       "      <td>vehicular</td>\n",
       "      <td>IVC - FAIL TO STOP/SIGNAL CROSSWALK</td>\n",
       "      <td>True</td>\n",
       "      <td>NaN</td>\n",
       "      <td>arrest</td>\n",
       "      <td>BLACK</td>\n",
       "      <td>NaN</td>\n",
       "    </tr>\n",
       "    <tr>\n",
       "      <th>4</th>\n",
       "      <td>5</td>\n",
       "      <td>2012-01-01</td>\n",
       "      <td>01:00:00</td>\n",
       "      <td>3451 177TH ST W</td>\n",
       "      <td>NaN</td>\n",
       "      <td>NaN</td>\n",
       "      <td>20.0</td>\n",
       "      <td>black</td>\n",
       "      <td>male</td>\n",
       "      <td>NaN</td>\n",
       "      <td>...</td>\n",
       "      <td>NaN</td>\n",
       "      <td>NaN</td>\n",
       "      <td>NaN</td>\n",
       "      <td>vehicular</td>\n",
       "      <td>IVC - DRIVING 15-20 MPH ABOVE SPEED LIMIT</td>\n",
       "      <td>True</td>\n",
       "      <td>NaN</td>\n",
       "      <td>arrest</td>\n",
       "      <td>BLACK</td>\n",
       "      <td>NaN</td>\n",
       "    </tr>\n",
       "  </tbody>\n",
       "</table>\n",
       "<p>5 rows × 21 columns</p>\n",
       "</div>"
      ],
      "text/plain": [
       "   raw_row_number        date      time                         location  lat  \\\n",
       "0               1  2012-01-06  09:00:00                    700 LINCOLN W  NaN   \n",
       "1               2  2012-01-01  00:00:00                              NaN  NaN   \n",
       "2               3  2012-01-01  01:00:00  0 NORTHWEST HWY & HILLSIDE RD S  NaN   \n",
       "3               4  2012-01-01  01:00:00                  108 LAMON AVE N  NaN   \n",
       "4               5  2012-01-01  01:00:00                  3451 177TH ST W  NaN   \n",
       "\n",
       "   lng  subject_age subject_race subject_sex officer_id_hash  ...  \\\n",
       "0  NaN         23.0        black        male      a6d791f976  ...   \n",
       "1  NaN         23.0     hispanic        male      81da9fab7e  ...   \n",
       "2  NaN         38.0        white      female             NaN  ...   \n",
       "3  NaN         35.0        black        male      048359e7c8  ...   \n",
       "4  NaN         20.0        black        male             NaN  ...   \n",
       "\n",
       "   officer_race officer_sex officer_years_of_service       type  \\\n",
       "0         white        male                     17.0  vehicular   \n",
       "1         white        male                      2.0  vehicular   \n",
       "2           NaN         NaN                      NaN  vehicular   \n",
       "3         black        male                      8.0  vehicular   \n",
       "4           NaN         NaN                      NaN  vehicular   \n",
       "\n",
       "                                   violation arrest_made citation_issued  \\\n",
       "0               DRIVING ON SUSPENDED LICENSE        True             NaN   \n",
       "1               DRIVING/NEVER ISSUED LICENSE        True             NaN   \n",
       "2               DRIVING ON SUSPENDED LICENSE        True             NaN   \n",
       "3        IVC - FAIL TO STOP/SIGNAL CROSSWALK        True             NaN   \n",
       "4  IVC - DRIVING 15-20 MPH ABOVE SPEED LIMIT        True             NaN   \n",
       "\n",
       "  outcome  raw_race raw_driver_race  \n",
       "0  arrest     BLACK             NaN  \n",
       "1  arrest  HISPANIC             NaN  \n",
       "2  arrest     WHITE             NaN  \n",
       "3  arrest     BLACK             NaN  \n",
       "4  arrest     BLACK             NaN  \n",
       "\n",
       "[5 rows x 21 columns]"
      ]
     },
     "execution_count": 3,
     "metadata": {},
     "output_type": "execute_result"
    }
   ],
   "source": [
    "df.head()"
   ]
  },
  {
   "cell_type": "code",
   "execution_count": 4,
   "metadata": {},
   "outputs": [
    {
     "data": {
      "text/plain": [
       "array([23., 38., 35., 20., 22., 63., 31., 26., 24., 33., 36., 50., 27.,\n",
       "       21., 29., 32., 56., 58., 46., 37., 25., 49., 43., 45., 19., 34.,\n",
       "       53., 54., 41., 18., 28., 48., 39., 30., 42., 57., 47., 44., 40.,\n",
       "       52., 61., nan, 51., 60., 89., 59., 76., 64., 88., 75., 69., 62.,\n",
       "       66., 71., 55., 67., 68., 17., 81., 72., 92., 65., 78., 74., 77.,\n",
       "       85., 83., 70., 80., 79., 73., 84., 93., 86., 87., 82., 90., 95.,\n",
       "       97., 96.])"
      ]
     },
     "execution_count": 4,
     "metadata": {},
     "output_type": "execute_result"
    }
   ],
   "source": [
    "#Subject sex\n",
    "\n",
    "df.subject_age.unique()"
   ]
  },
  {
   "cell_type": "code",
   "execution_count": 5,
   "metadata": {},
   "outputs": [],
   "source": [
    "df['subject_sex'] = df['subject_sex'].replace({np.nan:'Not Reported'})"
   ]
  },
  {
   "cell_type": "code",
   "execution_count": 6,
   "metadata": {},
   "outputs": [
    {
     "data": {
      "text/plain": [
       "array(['male', 'female', 'Not Reported'], dtype=object)"
      ]
     },
     "execution_count": 6,
     "metadata": {},
     "output_type": "execute_result"
    }
   ],
   "source": [
    "df.subject_sex.unique()"
   ]
  },
  {
   "cell_type": "code",
   "execution_count": 7,
   "metadata": {},
   "outputs": [
    {
     "data": {
      "text/plain": [
       "male            598540\n",
       "female          247581\n",
       "Not Reported       335\n",
       "Name: subject_sex, dtype: int64"
      ]
     },
     "execution_count": 7,
     "metadata": {},
     "output_type": "execute_result"
    }
   ],
   "source": [
    "df.subject_sex.value_counts()"
   ]
  },
  {
   "cell_type": "code",
   "execution_count": 8,
   "metadata": {},
   "outputs": [
    {
     "name": "stdout",
     "output_type": "stream",
     "text": [
      "<class 'pandas.core.frame.DataFrame'>\n",
      "RangeIndex: 846456 entries, 0 to 846455\n",
      "Data columns (total 21 columns):\n",
      " #   Column                    Non-Null Count   Dtype  \n",
      "---  ------                    --------------   -----  \n",
      " 0   raw_row_number            846456 non-null  int64  \n",
      " 1   date                      846456 non-null  object \n",
      " 2   time                      846456 non-null  object \n",
      " 3   location                  775414 non-null  object \n",
      " 4   lat                       641014 non-null  float64\n",
      " 5   lng                       641014 non-null  float64\n",
      " 6   subject_age               212223 non-null  float64\n",
      " 7   subject_race              224139 non-null  object \n",
      " 8   subject_sex               846456 non-null  object \n",
      " 9   officer_id_hash           152584 non-null  object \n",
      " 10  officer_age               60063 non-null   float64\n",
      " 11  officer_race              786791 non-null  object \n",
      " 12  officer_sex               786791 non-null  object \n",
      " 13  officer_years_of_service  784276 non-null  float64\n",
      " 14  type                      846455 non-null  object \n",
      " 15  violation                 846455 non-null  object \n",
      " 16  arrest_made               212249 non-null  object \n",
      " 17  citation_issued           639944 non-null  object \n",
      " 18  outcome                   846456 non-null  object \n",
      " 19  raw_race                  212249 non-null  object \n",
      " 20  raw_driver_race           11906 non-null   object \n",
      "dtypes: float64(5), int64(1), object(15)\n",
      "memory usage: 135.6+ MB\n"
     ]
    }
   ],
   "source": [
    "df.info()"
   ]
  },
  {
   "cell_type": "code",
   "execution_count": 10,
   "metadata": {},
   "outputs": [
    {
     "data": {
      "image/png": "[encoded data removed]",
      "text/plain": [
       "<Figure size 576x396 with 1 Axes>"
      ]
     },
     "metadata": {},
     "output_type": "display_data"
    }
   ],
   "source": [
    "# Labels for the sections of our pie chart\n",
    "labels = [\"Male\", \"Female\", \"Not Reported\"]\n",
    "\n",
    "# The values of each section of the pie chart\n",
    "sizes = [598540, 247581, 335]\n",
    "\n",
    "# The colors of each section of the pie chart\n",
    "colors = [\"green\", \"blue\", \"pink\"]\n",
    "\n",
    "# Creates the pie chart based upon the values above\n",
    "# Automatically finds the percentages of each part of the pie chart\n",
    "plt.title(\"Sex Demographic Information\")\n",
    "plt.pie(sizes, labels=labels, colors=colors, autopct=\"%1.2f%%\", startangle=140)\n",
    "\n",
    "# Save an image of the chart and print it to the screen\n",
    "plt.savefig(\"Sex.png\")\n",
    "plt.show()"
   ]
  },
  {
   "cell_type": "code",
   "execution_count": 11,
   "metadata": {},
   "outputs": [],
   "source": [
    "males = df[df['subject_sex']=='male']\n",
    "females = df[df['subject_sex']=='female']\n"
   ]
  },
  {
   "cell_type": "code",
   "execution_count": null,
   "metadata": {},
   "outputs": [],
   "source": []
  },
  {
   "cell_type": "code",
   "execution_count": 12,
   "metadata": {},
   "outputs": [
    {
     "data": {
      "text/plain": [
       "24.0    9721\n",
       "23.0    9668\n",
       "25.0    9421\n",
       "22.0    9331\n",
       "26.0    8980\n",
       "        ... \n",
       "92.0       2\n",
       "95.0       2\n",
       "96.0       1\n",
       "93.0       1\n",
       "97.0       1\n",
       "Name: subject_age, Length: 79, dtype: int64"
      ]
     },
     "execution_count": 12,
     "metadata": {},
     "output_type": "execute_result"
    }
   ],
   "source": [
    "#Subject age\n",
    "\n",
    "df.subject_age.value_counts()"
   ]
  },
  {
   "cell_type": "code",
   "execution_count": null,
   "metadata": {},
   "outputs": [],
   "source": []
  },
  {
   "cell_type": "code",
   "execution_count": 11,
   "metadata": {},
   "outputs": [
    {
     "name": "stdout",
     "output_type": "stream",
     "text": [
      "<class 'pandas.core.frame.DataFrame'>\n",
      "RangeIndex: 846456 entries, 0 to 846455\n",
      "Data columns (total 21 columns):\n",
      " #   Column                    Non-Null Count   Dtype  \n",
      "---  ------                    --------------   -----  \n",
      " 0   raw_row_number            846456 non-null  int64  \n",
      " 1   date                      846456 non-null  object \n",
      " 2   time                      846456 non-null  object \n",
      " 3   location                  775414 non-null  object \n",
      " 4   lat                       641014 non-null  float64\n",
      " 5   lng                       641014 non-null  float64\n",
      " 6   subject_age               212223 non-null  float64\n",
      " 7   subject_race              224139 non-null  object \n",
      " 8   subject_sex               846456 non-null  object \n",
      " 9   officer_id_hash           152584 non-null  object \n",
      " 10  officer_age               60063 non-null   float64\n",
      " 11  officer_race              786791 non-null  object \n",
      " 12  officer_sex               786791 non-null  object \n",
      " 13  officer_years_of_service  784276 non-null  float64\n",
      " 14  type                      846455 non-null  object \n",
      " 15  violation                 846455 non-null  object \n",
      " 16  arrest_made               212249 non-null  object \n",
      " 17  citation_issued           639944 non-null  object \n",
      " 18  outcome                   846456 non-null  object \n",
      " 19  raw_race                  212249 non-null  object \n",
      " 20  raw_driver_race           11906 non-null   object \n",
      "dtypes: float64(5), int64(1), object(15)\n",
      "memory usage: 135.6+ MB\n"
     ]
    }
   ],
   "source": [
    "df.info()"
   ]
  },
  {
   "cell_type": "code",
   "execution_count": 14,
   "metadata": {},
   "outputs": [
    {
     "data": {
      "image/png": "[encoded data removed]",
      "text/plain": [
       "<Figure size 576x396 with 1 Axes>"
      ]
     },
     "metadata": {},
     "output_type": "display_data"
    }
   ],
   "source": [
    "# Create the bins in which Data will be held\n",
    "bins = [0, 17.9, 23.9, 33.9, 43.9, 53.9, 63.9, 100]\n",
    "age = df['subject_age']\n",
    "df = df.dropna(axis = 0)\n",
    "df['subject_age'].astype(int)\n",
    "\n",
    "\n",
    "# Create the names for the five bins\n",
    "group_names = [\"Under 18 Years Old\", \"18-24 Years Old\", \"25-34 Years Old\", \"35-44 Years Old\", \"45-54 Years Old\", \"55-64 Years Old\", \"65+ Years Old\"]\n",
    "\n",
    "#df['subject_age'] = pd.cut(df['subject_age'], bins, labels=group_names, include_lowest=True)\n",
    "#axes = plt.axes()\n",
    "\n",
    "binlocations = [18, 21, 29, 39, 49, 59, 65]\n",
    "plt.hist(age, bins=bins, density=True)\n",
    "#df.hist('subject_age', bins=bins, labels = group_names)\n",
    "plt.xlabel('Age Group of Person Stopped')\n",
    "plt.xticks(binlocations, rotation = 90, labels=group_names)\n",
    "plt.ylabel('Counts')\n",
    "\n",
    "#plt.ylim(0, len(age)+0.4)\n",
    "#plt.axis([0, 5, 100000, 800000])\n",
    "#axes.set_ylim([10000,800000])\n",
    "plt.title(\"Age Demographics\")\n",
    "\n",
    "plt.savefig(\"Age.png\")\n",
    "plt.show()\n",
    "\n"
   ]
  },
  {
   "cell_type": "code",
   "execution_count": 17,
   "metadata": {},
   "outputs": [
    {
     "data": {
      "image/png": "[encoded data removed]",
      "text/plain": [
       "<Figure size 576x396 with 1 Axes>"
      ]
     },
     "metadata": {},
     "output_type": "display_data"
    }
   ],
   "source": [
    "# Create the bins in which Data will be held\n",
    "bins = [0, 18.9, 28.9, 38.9, 48.9, 100]\n",
    "age = df['subject_age']\n",
    "df = df.dropna(axis = 0)\n",
    "df['subject_age'].astype(int)\n",
    "\n",
    "\n",
    "# Create the names for the five bins\n",
    "group_names = [\"16-19 Years Old\", \"20-29 Years Old\", \"30-39 Years Old\", \"40-49 Years Old\", \"50+ Years Old\"]\n",
    "\n",
    "#df['subject_age'] = pd.cut(df['subject_age'], bins, labels=group_names, include_lowest=True)\n",
    "#axes = plt.axes()\n",
    "\n",
    "binlocations = [18, 24, 34, 44, 65]\n",
    "plt.hist(age, bins=bins, density=True)\n",
    "#df.hist('subject_age', bins=bins, labels = group_names)\n",
    "plt.xlabel('Age Group of Person Stopped')\n",
    "plt.xticks(binlocations, rotation = 90, labels=group_names)\n",
    "plt.ylabel('Counts')\n",
    "\n",
    "#plt.ylim(0, len(age)+0.4)\n",
    "#plt.axis([0, 5, 100000, 800000])\n",
    "#axes.set_ylim([10000,800000])\n",
    "plt.title(\"Age Demographics\")\n",
    "\n",
    "plt.savefig(\"Age2.png\")\n",
    "plt.show()\n"
   ]
  },
  {
   "cell_type": "code",
   "execution_count": 15,
   "metadata": {},
   "outputs": [
    {
     "data": {
      "text/plain": [
       "black       13\n",
       "hispanic     3\n",
       "Name: subject_race, dtype: int64"
      ]
     },
     "execution_count": 15,
     "metadata": {},
     "output_type": "execute_result"
    }
   ],
   "source": [
    "#Subject race\n",
    "\n",
    "df['subject_race'] = df['subject_race'].replace({np.nan:'Not Reported'})\n",
    "\n",
    "df.subject_race.value_counts()"
   ]
  },
  {
   "cell_type": "code",
   "execution_count": null,
   "metadata": {},
   "outputs": [],
   "source": []
  },
  {
   "cell_type": "code",
   "execution_count": 16,
   "metadata": {},
   "outputs": [
    {
     "data": {
      "image/png": "[encoded data removed]",
      "text/plain": [
       "<Figure size 576x396 with 1 Axes>"
      ]
     },
     "metadata": {},
     "output_type": "display_data"
    }
   ],
   "source": [
    "#bar chart\n",
    "race = [\"Not Reported\", \"Black\", \"Hispanic\", \"White\", \"Asian/Pacific Islander\", \"Unknown\", \"Other\"]\n",
    "\n",
    "numbers = [622317, 98236, 78124, 43870, 2279, 1463, 167]\n",
    "x_axis = np.arange(len(numbers))\n",
    "\n",
    "plt.xticks(rotation = 90)\n",
    "tick_locations = [value for value in x_axis]\n",
    "plt.xticks(tick_locations, race)\n",
    "\n",
    "plt.title(\"Race/Ethnicity Demographics\")\n",
    "\n",
    "\n",
    "plt.bar(x_axis, numbers, color=\"b\", align=\"center\")\n",
    "\n",
    "# Save an image of the chart and print it to the screen\n",
    "plt.savefig(\"Race_Ethnicity.png\")\n",
    "plt.show()"
   ]
  },
  {
   "cell_type": "code",
   "execution_count": null,
   "metadata": {},
   "outputs": [],
   "source": []
  },
  {
   "cell_type": "code",
   "execution_count": null,
   "metadata": {},
   "outputs": [],
   "source": []
  },
  {
   "cell_type": "code",
   "execution_count": null,
   "metadata": {},
   "outputs": [],
   "source": []
  }
 ],
 "metadata": {
  "kernelspec": {
   "display_name": "Python 3",
   "language": "python",
   "name": "python3"
  },
  "language_info": {
   "codemirror_mode": {
    "name": "ipython",
    "version": 3
   },
   "file_extension": ".py",
   "mimetype": "text/x-python",
   "name": "python",
   "nbconvert_exporter": "python",
   "pygments_lexer": "ipython3",
   "version": "3.8.5"
  }
 },
 "nbformat": 4,
 "nbformat_minor": 4
}
