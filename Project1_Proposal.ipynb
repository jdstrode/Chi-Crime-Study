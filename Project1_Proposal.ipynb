{
 "cells": [
  {
   "cell_type": "markdown",
   "metadata": {},
   "source": [
    "PROJECT TITLE:\n",
    "An Analysis of Police Officer Stop Data"
   ]
  },
  {
   "cell_type": "markdown",
   "metadata": {},
   "source": [
    "TEAM MEMBERS:\n",
    "J.D. Strode\n",
    "Vaidehee Shah\n",
    "Octavio Origel\n",
    "Peter Sparks\n",
    "Melissa Mongrella\n"
   ]
  },
  {
   "cell_type": "markdown",
   "metadata": {},
   "source": [
    "PROJECT DESCRIPTION/OUTLINE:\n",
    "Our project is analyzing the The Stanford Open Project's Chicago dataset. \n",
    "We have chosen four questions from the dataset to further understand the nuances of traffic stops in the city.\n",
    "    "
   ]
  },
  {
   "cell_type": "markdown",
   "metadata": {},
   "source": [
    "RESEARCH QUESTIONS TO ANSWER:\n",
    "\n",
    "1) How does the race and gender of the police officer affect the race and gender of the person getting stopped?\n",
    "2) What area of Chicago do the most stops occur?\n",
    "3) What are the most common time points for a stop to occur?\n",
    "4) Was a citation issued?\n",
    "5) What are the general demographics of people who get pulled over?"
   ]
  },
  {
   "cell_type": "markdown",
   "metadata": {},
   "source": [
    "DATASETS TO BE USED:\n",
    "We will be using the Stanford Opening Policing Project (https://openpolicing.stanford.edu/)"
   ]
  },
  {
   "cell_type": "markdown",
   "metadata": {},
   "source": [
    "ROUGH BREAKDOWN OF TASKS:\n",
    "J.D. Strode - Will look at demographic relationships (Question 1)\n",
    "Vaidehee Shah - Will look at the most common time points for a stop to occur (Question 3)\n",
    "Octavio Origel - Will examine if age influences the occurrence of citations or arrests \n",
    "Peter Sparks - Will look at location data\n",
    "Melissa Mongrella - Will look at the general demographics of people who get pulled over"
   ]
  }
 ],
 "metadata": {
  "kernelspec": {
   "display_name": "Python 3",
   "language": "python",
   "name": "python3"
  },
  "language_info": {
   "codemirror_mode": {
    "name": "ipython",
    "version": 3
   },
   "file_extension": ".py",
   "mimetype": "text/x-python",
   "name": "python",
   "nbconvert_exporter": "python",
   "pygments_lexer": "ipython3",
   "version": "3.8.5"
  }
 },
 "nbformat": 4,
 "nbformat_minor": 4
}
