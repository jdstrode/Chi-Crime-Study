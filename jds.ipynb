{
 "cells": [
  {
   "cell_type": "markdown",
   "metadata": {},
   "source": [
    "PROJECT TITLE:\n",
    "An Analysis of Police Officer Stop Data"
   ]
  },
  {
   "cell_type": "markdown",
   "metadata": {},
   "source": [
    "TEAM MEMBERS:\n",
    "J.D. Strode\n",
    "Vaidehee Shah\n",
    "Octavio Origel\n",
    "Peter Sparks\n",
    "Melissa Mongrella\n"
   ]
  },
  {
   "cell_type": "markdown",
   "metadata": {},
   "source": [
    "PROJECT DESCRIPTION/OUTLINE:\n",
    "Our project is analyzing the The Stanford Open Project's Chicago dataset. \n",
    "We have chosen four questions from the dataset to further understand the nuances of traffic stops in the city.\n",
    "    "
   ]
  },
  {
   "cell_type": "markdown",
   "metadata": {},
   "source": [
    "RESEARCH QUESTIONS TO ANSWER:\n",
    "\n",
    "1) How does the race and gender of the police officer affect the race and gender of the person getting stopped?\n",
    "2) What area of Chicago do the most stops occur?\n",
    "3) What are the most common time points for a stop to occur?\n",
    "4) Was a citation issued?\n",
    "5) What are the general demographics of people who get pulled over?"
   ]
  },
  {
   "cell_type": "markdown",
   "metadata": {},
   "source": [
    "DATASETS TO BE USED:\n",
    "We will be using the Stanford Opening Policing Project (https://openpolicing.stanford.edu/)"
   ]
  },
  {
   "cell_type": "markdown",
   "metadata": {},
   "source": [
    "ROUGH BREAKDOWN OF TASKS:\n",
    "J.D. Strode - Will look at demographic relationships (Question 1)\n",
    "Vaidehee Shah - Will look at the most common time points for a stop to occur (Question 3)\n",
    "Octavio Origel - Will examine if age influences the occurrence of citations or arrests \n",
    "Peter Sparks - Will look at location data\n",
    "Melissa Mongrella - Will look at the general demographics of people who get pulled over"
   ]
  },
  {
   "cell_type": "code",
   "execution_count": 34,
   "metadata": {},
   "outputs": [],
   "source": [
    "# Dependencies and Setup\n",
    "import matplotlib.pyplot as plt\n",
    "import pandas as pd\n",
    "import numpy as np\n",
    "import requests\n",
    "import time\n",
    "from scipy.stats import linregress\n",
    "import json\n",
    "import seaborn as sns\n",
    "\n",
    "# Import API key\n",
    "# from api_key import g_key\n",
    "\n",
    "# Incorporated citipy to determine city based on latitude and longitude\n",
    "# from citipy import citipy"
   ]
  },
  {
   "cell_type": "code",
   "execution_count": 2,
   "metadata": {},
   "outputs": [
    {
     "name": "stderr",
     "output_type": "stream",
     "text": [
      "C:\\Users\\jdstr\\anaconda3\\lib\\site-packages\\IPython\\core\\interactiveshell.py:3071: DtypeWarning: Columns (9,16,17,19,20) have mixed types.Specify dtype option on import or set low_memory=False.\n",
      "  has_raised = await self.run_ast_nodes(code_ast.body, cell_name,\n"
     ]
    }
   ],
   "source": [
    "# File to Load (Remember to Change These)\n",
    "crime_data = \"crime_data/chicagodata.csv\"\n",
    "\n",
    "# Read Purchasing File and store into Pandas data frame\n",
    "df = pd.read_csv(crime_data, encoding=\"utf-8\")"
   ]
  },
  {
   "cell_type": "code",
   "execution_count": 3,
   "metadata": {},
   "outputs": [
    {
     "data": {
      "text/html": [
       "<div>\n",
       "<style scoped>\n",
       "    .dataframe tbody tr th:only-of-type {\n",
       "        vertical-align: middle;\n",
       "    }\n",
       "\n",
       "    .dataframe tbody tr th {\n",
       "        vertical-align: top;\n",
       "    }\n",
       "\n",
       "    .dataframe thead th {\n",
       "        text-align: right;\n",
       "    }\n",
       "</style>\n",
       "<table border=\"1\" class=\"dataframe\">\n",
       "  <thead>\n",
       "    <tr style=\"text-align: right;\">\n",
       "      <th></th>\n",
       "      <th>raw_row_number</th>\n",
       "      <th>date</th>\n",
       "      <th>time</th>\n",
       "      <th>location</th>\n",
       "      <th>lat</th>\n",
       "      <th>lng</th>\n",
       "      <th>subject_age</th>\n",
       "      <th>subject_race</th>\n",
       "      <th>subject_sex</th>\n",
       "      <th>officer_id_hash</th>\n",
       "      <th>...</th>\n",
       "      <th>officer_race</th>\n",
       "      <th>officer_sex</th>\n",
       "      <th>officer_years_of_service</th>\n",
       "      <th>type</th>\n",
       "      <th>violation</th>\n",
       "      <th>arrest_made</th>\n",
       "      <th>citation_issued</th>\n",
       "      <th>outcome</th>\n",
       "      <th>raw_race</th>\n",
       "      <th>raw_driver_race</th>\n",
       "    </tr>\n",
       "  </thead>\n",
       "  <tbody>\n",
       "    <tr>\n",
       "      <th>0</th>\n",
       "      <td>1</td>\n",
       "      <td>2012-01-06</td>\n",
       "      <td>09:00:00</td>\n",
       "      <td>700 LINCOLN W</td>\n",
       "      <td>NaN</td>\n",
       "      <td>NaN</td>\n",
       "      <td>23.0</td>\n",
       "      <td>black</td>\n",
       "      <td>male</td>\n",
       "      <td>a6d791f976</td>\n",
       "      <td>...</td>\n",
       "      <td>white</td>\n",
       "      <td>male</td>\n",
       "      <td>17.0</td>\n",
       "      <td>vehicular</td>\n",
       "      <td>DRIVING ON SUSPENDED LICENSE</td>\n",
       "      <td>True</td>\n",
       "      <td>NaN</td>\n",
       "      <td>arrest</td>\n",
       "      <td>BLACK</td>\n",
       "      <td>NaN</td>\n",
       "    </tr>\n",
       "    <tr>\n",
       "      <th>1</th>\n",
       "      <td>2</td>\n",
       "      <td>2012-01-01</td>\n",
       "      <td>00:00:00</td>\n",
       "      <td>NaN</td>\n",
       "      <td>NaN</td>\n",
       "      <td>NaN</td>\n",
       "      <td>23.0</td>\n",
       "      <td>hispanic</td>\n",
       "      <td>male</td>\n",
       "      <td>81da9fab7e</td>\n",
       "      <td>...</td>\n",
       "      <td>white</td>\n",
       "      <td>male</td>\n",
       "      <td>2.0</td>\n",
       "      <td>vehicular</td>\n",
       "      <td>DRIVING/NEVER ISSUED LICENSE</td>\n",
       "      <td>True</td>\n",
       "      <td>NaN</td>\n",
       "      <td>arrest</td>\n",
       "      <td>HISPANIC</td>\n",
       "      <td>NaN</td>\n",
       "    </tr>\n",
       "    <tr>\n",
       "      <th>2</th>\n",
       "      <td>3</td>\n",
       "      <td>2012-01-01</td>\n",
       "      <td>01:00:00</td>\n",
       "      <td>0 NORTHWEST HWY &amp; HILLSIDE RD S</td>\n",
       "      <td>NaN</td>\n",
       "      <td>NaN</td>\n",
       "      <td>38.0</td>\n",
       "      <td>white</td>\n",
       "      <td>female</td>\n",
       "      <td>NaN</td>\n",
       "      <td>...</td>\n",
       "      <td>NaN</td>\n",
       "      <td>NaN</td>\n",
       "      <td>NaN</td>\n",
       "      <td>vehicular</td>\n",
       "      <td>DRIVING ON SUSPENDED LICENSE</td>\n",
       "      <td>True</td>\n",
       "      <td>NaN</td>\n",
       "      <td>arrest</td>\n",
       "      <td>WHITE</td>\n",
       "      <td>NaN</td>\n",
       "    </tr>\n",
       "    <tr>\n",
       "      <th>3</th>\n",
       "      <td>4</td>\n",
       "      <td>2012-01-01</td>\n",
       "      <td>01:00:00</td>\n",
       "      <td>108 LAMON AVE N</td>\n",
       "      <td>NaN</td>\n",
       "      <td>NaN</td>\n",
       "      <td>35.0</td>\n",
       "      <td>black</td>\n",
       "      <td>male</td>\n",
       "      <td>048359e7c8</td>\n",
       "      <td>...</td>\n",
       "      <td>black</td>\n",
       "      <td>male</td>\n",
       "      <td>8.0</td>\n",
       "      <td>vehicular</td>\n",
       "      <td>IVC - FAIL TO STOP/SIGNAL CROSSWALK</td>\n",
       "      <td>True</td>\n",
       "      <td>NaN</td>\n",
       "      <td>arrest</td>\n",
       "      <td>BLACK</td>\n",
       "      <td>NaN</td>\n",
       "    </tr>\n",
       "    <tr>\n",
       "      <th>4</th>\n",
       "      <td>5</td>\n",
       "      <td>2012-01-01</td>\n",
       "      <td>01:00:00</td>\n",
       "      <td>3451 177TH ST W</td>\n",
       "      <td>NaN</td>\n",
       "      <td>NaN</td>\n",
       "      <td>20.0</td>\n",
       "      <td>black</td>\n",
       "      <td>male</td>\n",
       "      <td>NaN</td>\n",
       "      <td>...</td>\n",
       "      <td>NaN</td>\n",
       "      <td>NaN</td>\n",
       "      <td>NaN</td>\n",
       "      <td>vehicular</td>\n",
       "      <td>IVC - DRIVING 15-20 MPH ABOVE SPEED LIMIT</td>\n",
       "      <td>True</td>\n",
       "      <td>NaN</td>\n",
       "      <td>arrest</td>\n",
       "      <td>BLACK</td>\n",
       "      <td>NaN</td>\n",
       "    </tr>\n",
       "  </tbody>\n",
       "</table>\n",
       "<p>5 rows × 21 columns</p>\n",
       "</div>"
      ],
      "text/plain": [
       "   raw_row_number        date      time                         location  lat  \\\n",
       "0               1  2012-01-06  09:00:00                    700 LINCOLN W  NaN   \n",
       "1               2  2012-01-01  00:00:00                              NaN  NaN   \n",
       "2               3  2012-01-01  01:00:00  0 NORTHWEST HWY & HILLSIDE RD S  NaN   \n",
       "3               4  2012-01-01  01:00:00                  108 LAMON AVE N  NaN   \n",
       "4               5  2012-01-01  01:00:00                  3451 177TH ST W  NaN   \n",
       "\n",
       "   lng  subject_age subject_race subject_sex officer_id_hash  ...  \\\n",
       "0  NaN         23.0        black        male      a6d791f976  ...   \n",
       "1  NaN         23.0     hispanic        male      81da9fab7e  ...   \n",
       "2  NaN         38.0        white      female             NaN  ...   \n",
       "3  NaN         35.0        black        male      048359e7c8  ...   \n",
       "4  NaN         20.0        black        male             NaN  ...   \n",
       "\n",
       "   officer_race officer_sex officer_years_of_service       type  \\\n",
       "0         white        male                     17.0  vehicular   \n",
       "1         white        male                      2.0  vehicular   \n",
       "2           NaN         NaN                      NaN  vehicular   \n",
       "3         black        male                      8.0  vehicular   \n",
       "4           NaN         NaN                      NaN  vehicular   \n",
       "\n",
       "                                   violation arrest_made citation_issued  \\\n",
       "0               DRIVING ON SUSPENDED LICENSE        True             NaN   \n",
       "1               DRIVING/NEVER ISSUED LICENSE        True             NaN   \n",
       "2               DRIVING ON SUSPENDED LICENSE        True             NaN   \n",
       "3        IVC - FAIL TO STOP/SIGNAL CROSSWALK        True             NaN   \n",
       "4  IVC - DRIVING 15-20 MPH ABOVE SPEED LIMIT        True             NaN   \n",
       "\n",
       "  outcome  raw_race raw_driver_race  \n",
       "0  arrest     BLACK             NaN  \n",
       "1  arrest  HISPANIC             NaN  \n",
       "2  arrest     WHITE             NaN  \n",
       "3  arrest     BLACK             NaN  \n",
       "4  arrest     BLACK             NaN  \n",
       "\n",
       "[5 rows x 21 columns]"
      ]
     },
     "execution_count": 3,
     "metadata": {},
     "output_type": "execute_result"
    }
   ],
   "source": [
    "df.head()"
   ]
  },
  {
   "cell_type": "code",
   "execution_count": 9,
   "metadata": {},
   "outputs": [
    {
     "data": {
      "text/plain": [
       "raw_row_number              846456\n",
       "date                        846456\n",
       "time                        846456\n",
       "location                    775414\n",
       "lat                         641014\n",
       "lng                         641014\n",
       "subject_age                 212223\n",
       "subject_race                224139\n",
       "subject_sex                 846121\n",
       "officer_id_hash             152584\n",
       "officer_age                  60063\n",
       "officer_race                786791\n",
       "officer_sex                 786791\n",
       "officer_years_of_service    784276\n",
       "type                        846455\n",
       "violation                   846455\n",
       "arrest_made                 212249\n",
       "citation_issued             639944\n",
       "outcome                     846456\n",
       "raw_race                    212249\n",
       "raw_driver_race              11906\n",
       "dtype: int64"
      ]
     },
     "execution_count": 9,
     "metadata": {},
     "output_type": "execute_result"
    }
   ],
   "source": [
    "df.count()"
   ]
  },
  {
   "cell_type": "code",
   "execution_count": 5,
   "metadata": {},
   "outputs": [
    {
     "data": {
      "text/plain": [
       "['raw_row_number',\n",
       " 'date',\n",
       " 'time',\n",
       " 'location',\n",
       " 'lat',\n",
       " 'lng',\n",
       " 'subject_age',\n",
       " 'subject_race',\n",
       " 'subject_sex',\n",
       " 'officer_id_hash',\n",
       " 'officer_age',\n",
       " 'officer_race',\n",
       " 'officer_sex',\n",
       " 'officer_years_of_service',\n",
       " 'type',\n",
       " 'violation',\n",
       " 'arrest_made',\n",
       " 'citation_issued',\n",
       " 'outcome',\n",
       " 'raw_race',\n",
       " 'raw_driver_race']"
      ]
     },
     "execution_count": 5,
     "metadata": {},
     "output_type": "execute_result"
    }
   ],
   "source": [
    "list(df.columns)"
   ]
  },
  {
   "cell_type": "code",
   "execution_count": 9,
   "metadata": {},
   "outputs": [
    {
     "data": {
      "text/html": [
       "<div>\n",
       "<style scoped>\n",
       "    .dataframe tbody tr th:only-of-type {\n",
       "        vertical-align: middle;\n",
       "    }\n",
       "\n",
       "    .dataframe tbody tr th {\n",
       "        vertical-align: top;\n",
       "    }\n",
       "\n",
       "    .dataframe thead th {\n",
       "        text-align: right;\n",
       "    }\n",
       "</style>\n",
       "<table border=\"1\" class=\"dataframe\">\n",
       "  <thead>\n",
       "    <tr style=\"text-align: right;\">\n",
       "      <th></th>\n",
       "      <th>subject_sex</th>\n",
       "      <th>subject_race</th>\n",
       "      <th>officer_sex</th>\n",
       "      <th>officer_race</th>\n",
       "    </tr>\n",
       "  </thead>\n",
       "  <tbody>\n",
       "    <tr>\n",
       "      <th>0</th>\n",
       "      <td>male</td>\n",
       "      <td>black</td>\n",
       "      <td>male</td>\n",
       "      <td>white</td>\n",
       "    </tr>\n",
       "    <tr>\n",
       "      <th>1</th>\n",
       "      <td>male</td>\n",
       "      <td>hispanic</td>\n",
       "      <td>male</td>\n",
       "      <td>white</td>\n",
       "    </tr>\n",
       "    <tr>\n",
       "      <th>2</th>\n",
       "      <td>female</td>\n",
       "      <td>white</td>\n",
       "      <td>NaN</td>\n",
       "      <td>NaN</td>\n",
       "    </tr>\n",
       "    <tr>\n",
       "      <th>3</th>\n",
       "      <td>male</td>\n",
       "      <td>black</td>\n",
       "      <td>male</td>\n",
       "      <td>black</td>\n",
       "    </tr>\n",
       "    <tr>\n",
       "      <th>4</th>\n",
       "      <td>male</td>\n",
       "      <td>black</td>\n",
       "      <td>NaN</td>\n",
       "      <td>NaN</td>\n",
       "    </tr>\n",
       "  </tbody>\n",
       "</table>\n",
       "</div>"
      ],
      "text/plain": [
       "  subject_sex subject_race officer_sex officer_race\n",
       "0        male        black        male        white\n",
       "1        male     hispanic        male        white\n",
       "2      female        white         NaN          NaN\n",
       "3        male        black        male        black\n",
       "4        male        black         NaN          NaN"
      ]
     },
     "execution_count": 9,
     "metadata": {},
     "output_type": "execute_result"
    }
   ],
   "source": [
    "demo_df = df[['subject_sex',\n",
    " 'subject_race','officer_sex',\n",
    " 'officer_race',\n",
    "        ]]\n",
    "demo_df.head()"
   ]
  },
  {
   "cell_type": "code",
   "execution_count": 10,
   "metadata": {},
   "outputs": [
    {
     "data": {
      "text/plain": [
       "subject_sex     846121\n",
       "subject_race    224139\n",
       "officer_sex     786791\n",
       "officer_race    786791\n",
       "dtype: int64"
      ]
     },
     "execution_count": 10,
     "metadata": {},
     "output_type": "execute_result"
    }
   ],
   "source": [
    "demo_df.count()"
   ]
  },
  {
   "cell_type": "code",
   "execution_count": 11,
   "metadata": {},
   "outputs": [
    {
     "data": {
      "text/plain": [
       "subject_sex     164434\n",
       "subject_race    164434\n",
       "officer_sex     164434\n",
       "officer_race    164434\n",
       "dtype: int64"
      ]
     },
     "execution_count": 11,
     "metadata": {},
     "output_type": "execute_result"
    }
   ],
   "source": [
    "demo_df = demo_df.dropna()\n",
    "demo_df.count()"
   ]
  },
  {
   "cell_type": "markdown",
   "metadata": {},
   "source": [
    "Demographics Analysis"
   ]
  },
  {
   "cell_type": "code",
   "execution_count": 12,
   "metadata": {},
   "outputs": [],
   "source": [
    "# row_number = demo_df['raw_row_number']\n",
    "# date = demo_df['date']\n",
    "# lat = demo_df['lat']\n",
    "# lng = demo_df['lng']\n",
    "# subject_age = demo_df['subject_age']\n",
    "# subject_race = demo_df['subject_race']\n",
    "# subject_sex = demo_df['subject_sex']\n",
    "# officer_age = demo_df['officer_age']\n",
    "# officer_race = demo_df['officer_race']\n",
    "# officer_sex = demo_df['officer_sex']"
   ]
  },
  {
   "cell_type": "code",
   "execution_count": 13,
   "metadata": {},
   "outputs": [],
   "source": [
    "#correlation between subject race & officer race"
   ]
  },
  {
   "cell_type": "code",
   "execution_count": 21,
   "metadata": {},
   "outputs": [
    {
     "data": {
      "text/plain": [
       "subject_race\n",
       "asian/pacific islander     1780\n",
       "black                     76035\n",
       "hispanic                  54554\n",
       "other                       143\n",
       "unknown                    1139\n",
       "white                     30783\n",
       "Name: officer_race, dtype: int64"
      ]
     },
     "execution_count": 21,
     "metadata": {},
     "output_type": "execute_result"
    }
   ],
   "source": [
    "groupbyrace = demo_df.groupby([\"subject_race\"]).count()\n",
    "groupbyrace = groupbyrace['officer_race']\n",
    "groupbyrace"
   ]
  },
  {
   "cell_type": "code",
   "execution_count": 125,
   "metadata": {},
   "outputs": [
    {
     "data": {
      "image/png": "[encoded data removed]",
      "text/plain": [
       "<Figure size 432x288 with 1 Axes>"
      ]
     },
     "metadata": {
      "needs_background": "light"
     },
     "output_type": "display_data"
    }
   ],
   "source": [
    "groupbyrace = groupbyrace.sort_values(ascending=False)\n",
    "\n",
    "# Create a bar chart based off of the group series from before\n",
    "racecounts = groupbyrace.plot(kind='bar')\n",
    "\n",
    "# Set the xlabel and ylabel using class methods\n",
    "racecounts.set_xlabel(\"Race of Subject\")\n",
    "racecounts.set_ylabel(\"Total Count\")\n",
    "racecounts.set_title(\"Crime Incidents by Race (2012-2016)\")\n",
    "\n",
    "#show bar chart\n",
    "plt.tight_layout()\n",
    "plt.savefig(\"images/Bar_Crime_by_Race.png\")\n",
    "plt.show()"
   ]
  },
  {
   "cell_type": "code",
   "execution_count": 151,
   "metadata": {},
   "outputs": [
    {
     "data": {
      "image/png": "[encoded data removed]",
      "text/plain": [
       "<Figure size 504x504 with 1 Axes>"
      ]
     },
     "metadata": {},
     "output_type": "display_data"
    }
   ],
   "source": [
    "#group clean_df by race\n",
    "groupbyrace.value_counts()\n",
    "\n",
    "#set color formatting\n",
    "colors=[\"blue\", \"orange\"]\n",
    "\n",
    "#Create the pie based upon the values above\n",
    "groupbyrace.plot(kind=\"pie\",autopct=\"%1.1f%%\", figsize=(7,7))\n",
    "\n",
    "plt.title(\"Percentage of Crimes by Race (2012-2016)\")\n",
    "plt.ylabel(\"Race\")\n",
    "plt.savefig(\"images/Pie_Crime_by_Race.png\")"
   ]
  },
  {
   "cell_type": "code",
   "execution_count": 24,
   "metadata": {},
   "outputs": [
    {
     "data": {
      "text/plain": [
       "subject_sex     164434\n",
       "subject_race    164434\n",
       "officer_sex     164434\n",
       "officer_race    164434\n",
       "dtype: int64"
      ]
     },
     "execution_count": 24,
     "metadata": {},
     "output_type": "execute_result"
    }
   ],
   "source": [
    "demo_df.head()\n",
    "demo_df.count()"
   ]
  },
  {
   "cell_type": "code",
   "execution_count": 32,
   "metadata": {},
   "outputs": [],
   "source": [
    "groupbysubjectrace = demo_df.groupby([\"subject_race\"])\n",
    "groupbysubjectrace['officer_race'].count()\n",
    "racevsrace = groupbysubjectrace[\"officer_race\"].value_counts()\n",
    "\n",
    "racevsrace_df = pd.DataFrame(racevsrace)\n",
    "racevsrace_df = racevsrace_df.rename(columns={\"officer_race\": \"counts\"})\n",
    "racevsrace_df = racevsrace_df.reset_index(level=\"officer_race\")\n",
    "racevsrace_df = racevsrace_df.sort_values('officer_race')\n",
    "racevsrace_df"
   ]
  },
  {
   "cell_type": "code",
   "execution_count": 33,
   "metadata": {},
   "outputs": [
    {
     "data": {
      "text/plain": [
       "<matplotlib.legend.Legend at 0x193dfe2bc40>"
      ]
     },
     "execution_count": 33,
     "metadata": {},
     "output_type": "execute_result"
    },
    {
     "data": {
      "image/png": "[encoded data removed]",
      "text/plain": [
       "<Figure size 432x288 with 1 Axes>"
      ]
     },
     "metadata": {
      "needs_background": "light"
     },
     "output_type": "display_data"
    }
   ],
   "source": [
    "fig, ax = plt.subplots()\n",
    "width = 0.2\n",
    "x = np.arange(len(racevsrace_df.loc['black'].officer_race))\n",
    "#\n",
    "labels=racevsrace_df.loc['white']['officer_race']\n",
    "ax.bar(x=x - width/2, width=width, height=racevsrace_df.loc['black'].counts, label='black')\n",
    "ax.bar(x=x + width/2, width=width, height=racevsrace_df.loc['white'].counts, label='white')\n",
    "ax.bar(x=x - 3*width/2, width=width, height=racevsrace_df.loc['hispanic'].counts, label='hispanic')\n",
    "ax.bar(x=x + 3*width/2, width=width, height=racevsrace_df.loc['unknown'].counts, label='unknown')\n",
    "\n",
    "ax.set_xticks(x)\n",
    "ax.set_xticklabels(labels, rotation=90)\n",
    "ax.set_xlabel('officer race')\n",
    "ax.set_ylabel('arrest count by subject')\n",
    "ax.legend(['Black', 'White', 'Hispanic', 'Asian'])"
   ]
  },
  {
   "cell_type": "code",
   "execution_count": 86,
   "metadata": {},
   "outputs": [
    {
     "data": {
      "image/png": "[encoded data removed]",
      "text/plain": [
       "<Figure size 1152x720 with 1 Axes>"
      ]
     },
     "metadata": {
      "needs_background": "light"
     },
     "output_type": "display_data"
    }
   ],
   "source": [
    "plt.figure(figsize=(16,10))\n",
    "ax = sns.countplot(x=\"officer_race\", hue=\"subject_race\", data=demo_df)\n",
    "ax.set(xlabel='Officer Race', ylabel='Incident Count by Subject Race', title=\"Reported Crimes per Subject Race, by Officer Race (2012-2016)\")\n",
    "\n",
    "plt.savefig(\"images/Officer_Race_vs_Subject_Race.png\")"
   ]
  },
  {
   "cell_type": "code",
   "execution_count": 141,
   "metadata": {},
   "outputs": [
    {
     "data": {
      "image/png": "[encoded data removed]",
      "text/plain": [
       "<Figure size 576x360 with 1 Axes>"
      ]
     },
     "metadata": {
      "needs_background": "light"
     },
     "output_type": "display_data"
    }
   ],
   "source": [
    "plt.figure(figsize=(8,5))\n",
    "ax = sns.countplot(x=\"officer_sex\", hue=\"subject_sex\", data=demo_df)\n",
    "ax.set(xlabel='Officer Sex', ylabel='Incident Count by Subject Sex', title=\"Reported Crimes per Subject Sex, by Officer Sex (2012-2016) \")\n",
    "\n",
    "plt.savefig(\"images/Officer_Sex_vs_Subject_Sex.png\")"
   ]
  },
  {
   "cell_type": "code",
   "execution_count": 63,
   "metadata": {},
   "outputs": [
    {
     "data": {
      "text/html": [
       "<div>\n",
       "<style scoped>\n",
       "    .dataframe tbody tr th:only-of-type {\n",
       "        vertical-align: middle;\n",
       "    }\n",
       "\n",
       "    .dataframe tbody tr th {\n",
       "        vertical-align: top;\n",
       "    }\n",
       "\n",
       "    .dataframe thead th {\n",
       "        text-align: right;\n",
       "    }\n",
       "</style>\n",
       "<table border=\"1\" class=\"dataframe\">\n",
       "  <thead>\n",
       "    <tr style=\"text-align: right;\">\n",
       "      <th></th>\n",
       "      <th>subject_sex</th>\n",
       "      <th>subject_race</th>\n",
       "      <th>officer_sex</th>\n",
       "      <th>officer_race</th>\n",
       "    </tr>\n",
       "  </thead>\n",
       "  <tbody>\n",
       "    <tr>\n",
       "      <th>0</th>\n",
       "      <td>male</td>\n",
       "      <td>black</td>\n",
       "      <td>male</td>\n",
       "      <td>white</td>\n",
       "    </tr>\n",
       "    <tr>\n",
       "      <th>1</th>\n",
       "      <td>male</td>\n",
       "      <td>hispanic</td>\n",
       "      <td>male</td>\n",
       "      <td>white</td>\n",
       "    </tr>\n",
       "    <tr>\n",
       "      <th>3</th>\n",
       "      <td>male</td>\n",
       "      <td>black</td>\n",
       "      <td>male</td>\n",
       "      <td>black</td>\n",
       "    </tr>\n",
       "    <tr>\n",
       "      <th>7</th>\n",
       "      <td>male</td>\n",
       "      <td>black</td>\n",
       "      <td>female</td>\n",
       "      <td>white</td>\n",
       "    </tr>\n",
       "    <tr>\n",
       "      <th>8</th>\n",
       "      <td>female</td>\n",
       "      <td>white</td>\n",
       "      <td>male</td>\n",
       "      <td>white</td>\n",
       "    </tr>\n",
       "    <tr>\n",
       "      <th>...</th>\n",
       "      <td>...</td>\n",
       "      <td>...</td>\n",
       "      <td>...</td>\n",
       "      <td>...</td>\n",
       "    </tr>\n",
       "    <tr>\n",
       "      <th>844593</th>\n",
       "      <td>male</td>\n",
       "      <td>white</td>\n",
       "      <td>male</td>\n",
       "      <td>white</td>\n",
       "    </tr>\n",
       "    <tr>\n",
       "      <th>845189</th>\n",
       "      <td>female</td>\n",
       "      <td>asian/pacific islander</td>\n",
       "      <td>male</td>\n",
       "      <td>white</td>\n",
       "    </tr>\n",
       "    <tr>\n",
       "      <th>845684</th>\n",
       "      <td>female</td>\n",
       "      <td>black</td>\n",
       "      <td>male</td>\n",
       "      <td>white</td>\n",
       "    </tr>\n",
       "    <tr>\n",
       "      <th>845847</th>\n",
       "      <td>female</td>\n",
       "      <td>black</td>\n",
       "      <td>male</td>\n",
       "      <td>hispanic</td>\n",
       "    </tr>\n",
       "    <tr>\n",
       "      <th>846172</th>\n",
       "      <td>male</td>\n",
       "      <td>white</td>\n",
       "      <td>male</td>\n",
       "      <td>white</td>\n",
       "    </tr>\n",
       "  </tbody>\n",
       "</table>\n",
       "<p>164434 rows × 4 columns</p>\n",
       "</div>"
      ],
      "text/plain": [
       "       subject_sex            subject_race officer_sex officer_race\n",
       "0             male                   black        male        white\n",
       "1             male                hispanic        male        white\n",
       "3             male                   black        male        black\n",
       "7             male                   black      female        white\n",
       "8           female                   white        male        white\n",
       "...            ...                     ...         ...          ...\n",
       "844593        male                   white        male        white\n",
       "845189      female  asian/pacific islander        male        white\n",
       "845684      female                   black        male        white\n",
       "845847      female                   black        male     hispanic\n",
       "846172        male                   white        male        white\n",
       "\n",
       "[164434 rows x 4 columns]"
      ]
     },
     "execution_count": 63,
     "metadata": {},
     "output_type": "execute_result"
    }
   ],
   "source": [
    "demo_df"
   ]
  },
  {
   "cell_type": "code",
   "execution_count": 104,
   "metadata": {},
   "outputs": [
    {
     "data": {
      "text/html": [
       "<div>\n",
       "<style scoped>\n",
       "    .dataframe tbody tr th:only-of-type {\n",
       "        vertical-align: middle;\n",
       "    }\n",
       "\n",
       "    .dataframe tbody tr th {\n",
       "        vertical-align: top;\n",
       "    }\n",
       "\n",
       "    .dataframe thead th {\n",
       "        text-align: right;\n",
       "    }\n",
       "</style>\n",
       "<table border=\"1\" class=\"dataframe\">\n",
       "  <thead>\n",
       "    <tr style=\"text-align: right;\">\n",
       "      <th></th>\n",
       "      <th>Total Male Incidents</th>\n",
       "      <th>Total Female Incidents</th>\n",
       "      <th>Total Incidents</th>\n",
       "    </tr>\n",
       "  </thead>\n",
       "  <tbody>\n",
       "    <tr>\n",
       "      <th>0</th>\n",
       "      <td>124872</td>\n",
       "      <td>39562</td>\n",
       "      <td>164434</td>\n",
       "    </tr>\n",
       "  </tbody>\n",
       "</table>\n",
       "</div>"
      ],
      "text/plain": [
       "   Total Male Incidents  Total Female Incidents  Total Incidents\n",
       "0                124872                   39562           164434"
      ]
     },
     "execution_count": 104,
     "metadata": {},
     "output_type": "execute_result"
    }
   ],
   "source": [
    "male_total_incidents = len(demo_df.loc[demo_df['subject_sex'] == 'male'])\n",
    "female_total_incidents = len(demo_df.loc[demo_df['subject_sex'] == 'female'])\n",
    "total_incidents = male_total_incidents + female_total_incidents\n",
    "\n",
    "gender_stats = [{'Total Male Incidents': male_total_incidents, \n",
    "                'Total Female Incidents': female_total_incidents,\n",
    "                'Total Incidents': total_incidents}]\n",
    "\n",
    "gender_stats = pd.DataFrame(gender_stats)\n",
    "gender_stats"
   ]
  },
  {
   "cell_type": "code",
   "execution_count": 117,
   "metadata": {},
   "outputs": [
    {
     "data": {
      "text/html": [
       "<div>\n",
       "<style scoped>\n",
       "    .dataframe tbody tr th:only-of-type {\n",
       "        vertical-align: middle;\n",
       "    }\n",
       "\n",
       "    .dataframe tbody tr th {\n",
       "        vertical-align: top;\n",
       "    }\n",
       "\n",
       "    .dataframe thead th {\n",
       "        text-align: right;\n",
       "    }\n",
       "</style>\n",
       "<table border=\"1\" class=\"dataframe\">\n",
       "  <thead>\n",
       "    <tr style=\"text-align: right;\">\n",
       "      <th></th>\n",
       "      <th>Total White Incidents</th>\n",
       "      <th>Total Black Incidents</th>\n",
       "      <th>Total Asian Incidents</th>\n",
       "      <th>Total Hispanic Incidents</th>\n",
       "      <th>Total Other Incidents</th>\n",
       "      <th>Total Unknown Incidents</th>\n",
       "    </tr>\n",
       "    <tr>\n",
       "      <th>Race</th>\n",
       "      <th></th>\n",
       "      <th></th>\n",
       "      <th></th>\n",
       "      <th></th>\n",
       "      <th></th>\n",
       "      <th></th>\n",
       "    </tr>\n",
       "  </thead>\n",
       "  <tbody>\n",
       "    <tr>\n",
       "      <th>Subject</th>\n",
       "      <td>30783</td>\n",
       "      <td>76035</td>\n",
       "      <td>1780</td>\n",
       "      <td>54554</td>\n",
       "      <td>143</td>\n",
       "      <td>1139</td>\n",
       "    </tr>\n",
       "    <tr>\n",
       "      <th>Officer</th>\n",
       "      <td>117585</td>\n",
       "      <td>18523</td>\n",
       "      <td>3429</td>\n",
       "      <td>22113</td>\n",
       "      <td>122</td>\n",
       "      <td>2662</td>\n",
       "    </tr>\n",
       "  </tbody>\n",
       "</table>\n",
       "</div>"
      ],
      "text/plain": [
       "         Total White Incidents  Total Black Incidents  Total Asian Incidents  \\\n",
       "Race                                                                           \n",
       "Subject                  30783                  76035                   1780   \n",
       "Officer                 117585                  18523                   3429   \n",
       "\n",
       "         Total Hispanic Incidents  Total Other Incidents  \\\n",
       "Race                                                       \n",
       "Subject                     54554                    143   \n",
       "Officer                     22113                    122   \n",
       "\n",
       "         Total Unknown Incidents  \n",
       "Race                              \n",
       "Subject                     1139  \n",
       "Officer                     2662  "
      ]
     },
     "execution_count": 117,
     "metadata": {},
     "output_type": "execute_result"
    }
   ],
   "source": [
    "white_total_subject = len(demo_df.loc[demo_df['subject_race'] == 'white'])\n",
    "black_total_subject = len(demo_df.loc[demo_df['subject_race'] == 'black'])\n",
    "asian_total_subject = len(demo_df.loc[demo_df['subject_race'] == 'asian/pacific islander'])\n",
    "hispanic_total_subject = len(demo_df.loc[demo_df['subject_race'] == 'hispanic'])\n",
    "other_total_subject = len(demo_df.loc[demo_df['subject_race'] == 'other'])\n",
    "unknown_total_subject = len(demo_df.loc[demo_df['subject_race'] == 'unknown'])\n",
    "\n",
    "white_total_officer = len(demo_df.loc[demo_df['officer_race'] == 'white'])\n",
    "black_total_officer = len(demo_df.loc[demo_df['officer_race'] == 'black'])\n",
    "asian_total_officer = len(demo_df.loc[demo_df['officer_race'] == 'asian/pacific islander'])\n",
    "hispanic_total_officer = len(demo_df.loc[demo_df['officer_race'] == 'hispanic'])\n",
    "other_total_officer = len(demo_df.loc[demo_df['officer_race'] == 'other'])\n",
    "unknown_total_officer = len(demo_df.loc[demo_df['officer_race'] == 'unknown'])\n",
    "\n",
    "total_incidents \n",
    "\n",
    "race_stats = [{'Race': 'Subject', \n",
    "               'Total White Incidents': white_total_subject, \n",
    "               'Total Black Incidents': black_total_subject,\n",
    "               'Total Asian Incidents': asian_total_subject,\n",
    "               'Total Hispanic Incidents': hispanic_total_subject,\n",
    "               'Total Other Incidents': other_total_subject,\n",
    "               'Total Unknown Incidents': unknown_total_subject},\n",
    "             {'Race': 'Officer',\n",
    "              'Total White Incidents': white_total_officer, \n",
    "              'Total Black Incidents': black_total_officer,\n",
    "              'Total Asian Incidents': asian_total_officer,\n",
    "               'Total Hispanic Incidents': hispanic_total_officer,\n",
    "              'Total Other Incidents': other_total_officer,\n",
    "              'Total Unknown Incidents': unknown_total_officer}]\n",
    "\n",
    "#                 'Total Incidents': total_incidents}]\n",
    "\n",
    "#                 'Total Incidents': total_incidents},\n",
    "        \n",
    "               \n",
    "race_stats = pd.DataFrame(race_stats).set_index(\"Race\")\n",
    "race_stats"
   ]
  },
  {
   "cell_type": "code",
   "execution_count": 147,
   "metadata": {},
   "outputs": [
    {
     "data": {
      "image/png": "[encoded data removed]",
      "text/plain": [
       "<Figure size 720x432 with 1 Axes>"
      ]
     },
     "metadata": {
      "needs_background": "light"
     },
     "output_type": "display_data"
    }
   ],
   "source": [
    "race_chart = race_stats.plot(kind='bar', figsize=(10, 6))\n",
    "# race_chart.set_xticklabels(rotation=45)\n",
    "\n",
    "# Set the xlabel and ylabel using class methods\n",
    "# racecounts.set_xlabel(\"Race of Subject\")\n",
    "# racecounts.set_ylabel(\"Total Count of Incidnts\")\n",
    "# racecounts.set_title(\"Crime Incidents by Race (2012-2016)\")\n",
    "\n",
    "#show bar chart\n",
    "plt.tight_layout()\n",
    "plt.savefig(\"images/Officer_And_Subject_Races.png\")\n",
    "plt.show()"
   ]
  },
  {
   "cell_type": "code",
   "execution_count": 152,
   "metadata": {},
   "outputs": [
    {
     "data": {
      "image/png": "[encoded data removed]",
      "text/plain": [
       "<Figure size 432x432 with 1 Axes>"
      ]
     },
     "metadata": {},
     "output_type": "display_data"
    }
   ],
   "source": [
    "officer_sex_df = demo_df.groupby([\"officer_sex\"]).count()\n",
    "officer_sex_df = officer_sex_df[\"subject_sex\"]\n",
    "\n",
    "\n",
    "#set color formatting\n",
    "colors=[\"blue\", \"orange\"]\n",
    "\n",
    "#Create the pie based upon the values above\n",
    "officer_sex_df.plot(kind=\"pie\",autopct=\"%1.1f%%\", figsize=(6,6))\n",
    "\n",
    "plt.title(\"Percentage of Reports by Officer Gender (2012-2016)\")\n",
    "plt.ylabel(\"Race\")\n",
    "plt.savefig(\"images/Percent_of_Reports_by_Officer_Gender.png\")"
   ]
  },
  {
   "cell_type": "code",
   "execution_count": 153,
   "metadata": {},
   "outputs": [
    {
     "data": {
      "image/png": "[encoded data removed]",
      "text/plain": [
       "<Figure size 432x432 with 1 Axes>"
      ]
     },
     "metadata": {},
     "output_type": "display_data"
    }
   ],
   "source": [
    "subject_sex_df = demo_df.groupby([\"subject_sex\"]).count()\n",
    "subject_sex_df = subject_sex_df[\"officer_sex\"]\n",
    "\n",
    "#set color formatting\n",
    "colors=[\"blue\", \"orange\"]\n",
    "\n",
    "#Create the pie based upon the values above\n",
    "subject_sex_df.plot(kind=\"pie\",autopct=\"%1.1f%%\", figsize=(6,6))\n",
    "\n",
    "plt.title(\"Percentage of Incidents by Subject Gender (2012-2016)\")\n",
    "plt.ylabel(\"Race\")\n",
    "plt.savefig(\"images/Percent_of_Incidents_by_Subject_Gender.png\")"
   ]
  },
  {
   "cell_type": "code",
   "execution_count": null,
   "metadata": {},
   "outputs": [],
   "source": []
  }
 ],
 "metadata": {
  "kernelspec": {
   "display_name": "Python 3",
   "language": "python",
   "name": "python3"
  },
  "language_info": {
   "codemirror_mode": {
    "name": "ipython",
    "version": 3
   },
   "file_extension": ".py",
   "mimetype": "text/x-python",
   "name": "python",
   "nbconvert_exporter": "python",
   "pygments_lexer": "ipython3",
   "version": "3.8.5"
  }
 },
 "nbformat": 4,
 "nbformat_minor": 4
}
