{
 "cells": [
  {
   "cell_type": "markdown",
   "metadata": {},
   "source": [
    "PROJECT TITLE:\n",
    "An Analysis of Police Officer Stop Data"
   ]
  },
  {
   "cell_type": "markdown",
   "metadata": {},
   "source": [
    "TEAM MEMBERS:\n",
    "J.D. Strode\n",
    "Vaidehee Shah\n",
    "Octavio Origel\n",
    "Peter Sparks\n",
    "Melissa Mongrella\n"
   ]
  },
  {
   "cell_type": "markdown",
   "metadata": {},
   "source": [
    "PROJECT DESCRIPTION/OUTLINE:\n",
    "Our project is analyzing the The Stanford Open Project's Chicago dataset. \n",
    "We have chosen four questions from the dataset to further understand the nuances of traffic stops in the city.\n",
    "    "
   ]
  },
  {
   "cell_type": "markdown",
   "metadata": {},
   "source": [
    "RESEARCH QUESTIONS TO ANSWER:\n",
    "\n",
    "1) How does the race and gender of the police officer affect the race and gender of the person getting stopped?\n",
    "2) What area of Chicago do the most stops occur?\n",
    "3) What are the most common time points for a stop to occur?\n",
    "4) Was a citation issued?\n",
    "5) What are the general demographics of people who get pulled over?"
   ]
  },
  {
   "cell_type": "markdown",
   "metadata": {},
   "source": [
    "DATASETS TO BE USED:\n",
    "We will be using the Stanford Opening Policing Project (https://openpolicing.stanford.edu/)"
   ]
  },
  {
   "cell_type": "markdown",
   "metadata": {},
   "source": [
    "ROUGH BREAKDOWN OF TASKS:\n",
    "J.D. Strode - Will look at demographic relationships (Question 1)\n",
    "Vaidehee Shah - Will look at the most common time points for a stop to occur (Question 3)\n",
    "Octavio Origel - Will examine if age influences the occurrence of citations or arrests \n",
    "Peter Sparks - Will look at location data\n",
    "Melissa Mongrella - Will look at the general demographics of people who get pulled over"
   ]
  },
  {
   "cell_type": "code",
   "execution_count": 4,
   "metadata": {},
   "outputs": [],
   "source": [
    "# Dependencies and Setup\n",
    "import matplotlib.pyplot as plt\n",
    "import pandas as pd\n",
    "import numpy as np\n",
    "import requests\n",
    "import time\n",
    "from scipy.stats import linregress\n",
    "import json\n",
    "\n",
    "# Import API key\n",
    "# from api_key import g_key\n",
    "\n",
    "# Incorporated citipy to determine city based on latitude and longitude\n",
    "# from citipy import citipy"
   ]
  },
  {
   "cell_type": "code",
   "execution_count": 5,
   "metadata": {},
   "outputs": [
    {
     "name": "stderr",
     "output_type": "stream",
     "text": [
      "C:\\Users\\jdstr\\anaconda3\\lib\\site-packages\\IPython\\core\\interactiveshell.py:3071: DtypeWarning: Columns (9,16,17,19,20) have mixed types.Specify dtype option on import or set low_memory=False.\n",
      "  has_raised = await self.run_ast_nodes(code_ast.body, cell_name,\n"
     ]
    }
   ],
   "source": [
    "# File to Load (Remember to Change These)\n",
    "crime_data = \"crime_data/chicagodata.csv\"\n",
    "\n",
    "# Read Purchasing File and store into Pandas data frame\n",
    "df = pd.read_csv(crime_data, encoding=\"utf-8\")"
   ]
  },
  {
   "cell_type": "code",
   "execution_count": 6,
   "metadata": {},
   "outputs": [
    {
     "data": {
      "text/html": [
       "<div>\n",
       "<style scoped>\n",
       "    .dataframe tbody tr th:only-of-type {\n",
       "        vertical-align: middle;\n",
       "    }\n",
       "\n",
       "    .dataframe tbody tr th {\n",
       "        vertical-align: top;\n",
       "    }\n",
       "\n",
       "    .dataframe thead th {\n",
       "        text-align: right;\n",
       "    }\n",
       "</style>\n",
       "<table border=\"1\" class=\"dataframe\">\n",
       "  <thead>\n",
       "    <tr style=\"text-align: right;\">\n",
       "      <th></th>\n",
       "      <th>raw_row_number</th>\n",
       "      <th>date</th>\n",
       "      <th>time</th>\n",
       "      <th>location</th>\n",
       "      <th>lat</th>\n",
       "      <th>lng</th>\n",
       "      <th>subject_age</th>\n",
       "      <th>subject_race</th>\n",
       "      <th>subject_sex</th>\n",
       "      <th>officer_id_hash</th>\n",
       "      <th>...</th>\n",
       "      <th>officer_race</th>\n",
       "      <th>officer_sex</th>\n",
       "      <th>officer_years_of_service</th>\n",
       "      <th>type</th>\n",
       "      <th>violation</th>\n",
       "      <th>arrest_made</th>\n",
       "      <th>citation_issued</th>\n",
       "      <th>outcome</th>\n",
       "      <th>raw_race</th>\n",
       "      <th>raw_driver_race</th>\n",
       "    </tr>\n",
       "  </thead>\n",
       "  <tbody>\n",
       "    <tr>\n",
       "      <th>0</th>\n",
       "      <td>1</td>\n",
       "      <td>2012-01-06</td>\n",
       "      <td>09:00:00</td>\n",
       "      <td>700 LINCOLN W</td>\n",
       "      <td>NaN</td>\n",
       "      <td>NaN</td>\n",
       "      <td>23.0</td>\n",
       "      <td>black</td>\n",
       "      <td>male</td>\n",
       "      <td>a6d791f976</td>\n",
       "      <td>...</td>\n",
       "      <td>white</td>\n",
       "      <td>male</td>\n",
       "      <td>17.0</td>\n",
       "      <td>vehicular</td>\n",
       "      <td>DRIVING ON SUSPENDED LICENSE</td>\n",
       "      <td>True</td>\n",
       "      <td>NaN</td>\n",
       "      <td>arrest</td>\n",
       "      <td>BLACK</td>\n",
       "      <td>NaN</td>\n",
       "    </tr>\n",
       "    <tr>\n",
       "      <th>1</th>\n",
       "      <td>2</td>\n",
       "      <td>2012-01-01</td>\n",
       "      <td>00:00:00</td>\n",
       "      <td>NaN</td>\n",
       "      <td>NaN</td>\n",
       "      <td>NaN</td>\n",
       "      <td>23.0</td>\n",
       "      <td>hispanic</td>\n",
       "      <td>male</td>\n",
       "      <td>81da9fab7e</td>\n",
       "      <td>...</td>\n",
       "      <td>white</td>\n",
       "      <td>male</td>\n",
       "      <td>2.0</td>\n",
       "      <td>vehicular</td>\n",
       "      <td>DRIVING/NEVER ISSUED LICENSE</td>\n",
       "      <td>True</td>\n",
       "      <td>NaN</td>\n",
       "      <td>arrest</td>\n",
       "      <td>HISPANIC</td>\n",
       "      <td>NaN</td>\n",
       "    </tr>\n",
       "    <tr>\n",
       "      <th>2</th>\n",
       "      <td>3</td>\n",
       "      <td>2012-01-01</td>\n",
       "      <td>01:00:00</td>\n",
       "      <td>0 NORTHWEST HWY &amp; HILLSIDE RD S</td>\n",
       "      <td>NaN</td>\n",
       "      <td>NaN</td>\n",
       "      <td>38.0</td>\n",
       "      <td>white</td>\n",
       "      <td>female</td>\n",
       "      <td>NaN</td>\n",
       "      <td>...</td>\n",
       "      <td>NaN</td>\n",
       "      <td>NaN</td>\n",
       "      <td>NaN</td>\n",
       "      <td>vehicular</td>\n",
       "      <td>DRIVING ON SUSPENDED LICENSE</td>\n",
       "      <td>True</td>\n",
       "      <td>NaN</td>\n",
       "      <td>arrest</td>\n",
       "      <td>WHITE</td>\n",
       "      <td>NaN</td>\n",
       "    </tr>\n",
       "    <tr>\n",
       "      <th>3</th>\n",
       "      <td>4</td>\n",
       "      <td>2012-01-01</td>\n",
       "      <td>01:00:00</td>\n",
       "      <td>108 LAMON AVE N</td>\n",
       "      <td>NaN</td>\n",
       "      <td>NaN</td>\n",
       "      <td>35.0</td>\n",
       "      <td>black</td>\n",
       "      <td>male</td>\n",
       "      <td>048359e7c8</td>\n",
       "      <td>...</td>\n",
       "      <td>black</td>\n",
       "      <td>male</td>\n",
       "      <td>8.0</td>\n",
       "      <td>vehicular</td>\n",
       "      <td>IVC - FAIL TO STOP/SIGNAL CROSSWALK</td>\n",
       "      <td>True</td>\n",
       "      <td>NaN</td>\n",
       "      <td>arrest</td>\n",
       "      <td>BLACK</td>\n",
       "      <td>NaN</td>\n",
       "    </tr>\n",
       "    <tr>\n",
       "      <th>4</th>\n",
       "      <td>5</td>\n",
       "      <td>2012-01-01</td>\n",
       "      <td>01:00:00</td>\n",
       "      <td>3451 177TH ST W</td>\n",
       "      <td>NaN</td>\n",
       "      <td>NaN</td>\n",
       "      <td>20.0</td>\n",
       "      <td>black</td>\n",
       "      <td>male</td>\n",
       "      <td>NaN</td>\n",
       "      <td>...</td>\n",
       "      <td>NaN</td>\n",
       "      <td>NaN</td>\n",
       "      <td>NaN</td>\n",
       "      <td>vehicular</td>\n",
       "      <td>IVC - DRIVING 15-20 MPH ABOVE SPEED LIMIT</td>\n",
       "      <td>True</td>\n",
       "      <td>NaN</td>\n",
       "      <td>arrest</td>\n",
       "      <td>BLACK</td>\n",
       "      <td>NaN</td>\n",
       "    </tr>\n",
       "  </tbody>\n",
       "</table>\n",
       "<p>5 rows × 21 columns</p>\n",
       "</div>"
      ],
      "text/plain": [
       "   raw_row_number        date      time                         location  lat  \\\n",
       "0               1  2012-01-06  09:00:00                    700 LINCOLN W  NaN   \n",
       "1               2  2012-01-01  00:00:00                              NaN  NaN   \n",
       "2               3  2012-01-01  01:00:00  0 NORTHWEST HWY & HILLSIDE RD S  NaN   \n",
       "3               4  2012-01-01  01:00:00                  108 LAMON AVE N  NaN   \n",
       "4               5  2012-01-01  01:00:00                  3451 177TH ST W  NaN   \n",
       "\n",
       "   lng  subject_age subject_race subject_sex officer_id_hash  ...  \\\n",
       "0  NaN         23.0        black        male      a6d791f976  ...   \n",
       "1  NaN         23.0     hispanic        male      81da9fab7e  ...   \n",
       "2  NaN         38.0        white      female             NaN  ...   \n",
       "3  NaN         35.0        black        male      048359e7c8  ...   \n",
       "4  NaN         20.0        black        male             NaN  ...   \n",
       "\n",
       "   officer_race officer_sex officer_years_of_service       type  \\\n",
       "0         white        male                     17.0  vehicular   \n",
       "1         white        male                      2.0  vehicular   \n",
       "2           NaN         NaN                      NaN  vehicular   \n",
       "3         black        male                      8.0  vehicular   \n",
       "4           NaN         NaN                      NaN  vehicular   \n",
       "\n",
       "                                   violation arrest_made citation_issued  \\\n",
       "0               DRIVING ON SUSPENDED LICENSE        True             NaN   \n",
       "1               DRIVING/NEVER ISSUED LICENSE        True             NaN   \n",
       "2               DRIVING ON SUSPENDED LICENSE        True             NaN   \n",
       "3        IVC - FAIL TO STOP/SIGNAL CROSSWALK        True             NaN   \n",
       "4  IVC - DRIVING 15-20 MPH ABOVE SPEED LIMIT        True             NaN   \n",
       "\n",
       "  outcome  raw_race raw_driver_race  \n",
       "0  arrest     BLACK             NaN  \n",
       "1  arrest  HISPANIC             NaN  \n",
       "2  arrest     WHITE             NaN  \n",
       "3  arrest     BLACK             NaN  \n",
       "4  arrest     BLACK             NaN  \n",
       "\n",
       "[5 rows x 21 columns]"
      ]
     },
     "execution_count": 6,
     "metadata": {},
     "output_type": "execute_result"
    }
   ],
   "source": [
    "df.head()"
   ]
  },
  {
   "cell_type": "code",
   "execution_count": 7,
   "metadata": {},
   "outputs": [
    {
     "data": {
      "text/plain": [
       "raw_row_number              846456\n",
       "date                        846456\n",
       "time                        846456\n",
       "location                    775414\n",
       "lat                         641014\n",
       "lng                         641014\n",
       "subject_age                 212223\n",
       "subject_race                224139\n",
       "subject_sex                 846121\n",
       "officer_id_hash             152584\n",
       "officer_age                  60063\n",
       "officer_race                786791\n",
       "officer_sex                 786791\n",
       "officer_years_of_service    784276\n",
       "type                        846455\n",
       "violation                   846455\n",
       "arrest_made                 212249\n",
       "citation_issued             639944\n",
       "outcome                     846456\n",
       "raw_race                    212249\n",
       "raw_driver_race              11906\n",
       "dtype: int64"
      ]
     },
     "execution_count": 7,
     "metadata": {},
     "output_type": "execute_result"
    }
   ],
   "source": [
    "df.count()"
   ]
  },
  {
   "cell_type": "code",
   "execution_count": 8,
   "metadata": {},
   "outputs": [
    {
     "data": {
      "text/plain": [
       "['raw_row_number',\n",
       " 'date',\n",
       " 'time',\n",
       " 'location',\n",
       " 'lat',\n",
       " 'lng',\n",
       " 'subject_age',\n",
       " 'subject_race',\n",
       " 'subject_sex',\n",
       " 'officer_id_hash',\n",
       " 'officer_age',\n",
       " 'officer_race',\n",
       " 'officer_sex',\n",
       " 'officer_years_of_service',\n",
       " 'type',\n",
       " 'violation',\n",
       " 'arrest_made',\n",
       " 'citation_issued',\n",
       " 'outcome',\n",
       " 'raw_race',\n",
       " 'raw_driver_race']"
      ]
     },
     "execution_count": 8,
     "metadata": {},
     "output_type": "execute_result"
    }
   ],
   "source": [
    "list(df.columns)"
   ]
  },
  {
   "cell_type": "code",
   "execution_count": 9,
   "metadata": {},
   "outputs": [
    {
     "data": {
      "text/html": [
       "<div>\n",
       "<style scoped>\n",
       "    .dataframe tbody tr th:only-of-type {\n",
       "        vertical-align: middle;\n",
       "    }\n",
       "\n",
       "    .dataframe tbody tr th {\n",
       "        vertical-align: top;\n",
       "    }\n",
       "\n",
       "    .dataframe thead th {\n",
       "        text-align: right;\n",
       "    }\n",
       "</style>\n",
       "<table border=\"1\" class=\"dataframe\">\n",
       "  <thead>\n",
       "    <tr style=\"text-align: right;\">\n",
       "      <th></th>\n",
       "      <th>raw_row_number</th>\n",
       "      <th>subject_sex</th>\n",
       "      <th>subject_race</th>\n",
       "      <th>officer_sex</th>\n",
       "      <th>officer_race</th>\n",
       "    </tr>\n",
       "  </thead>\n",
       "  <tbody>\n",
       "    <tr>\n",
       "      <th>0</th>\n",
       "      <td>1</td>\n",
       "      <td>male</td>\n",
       "      <td>black</td>\n",
       "      <td>male</td>\n",
       "      <td>white</td>\n",
       "    </tr>\n",
       "    <tr>\n",
       "      <th>1</th>\n",
       "      <td>2</td>\n",
       "      <td>male</td>\n",
       "      <td>hispanic</td>\n",
       "      <td>male</td>\n",
       "      <td>white</td>\n",
       "    </tr>\n",
       "    <tr>\n",
       "      <th>2</th>\n",
       "      <td>3</td>\n",
       "      <td>female</td>\n",
       "      <td>white</td>\n",
       "      <td>NaN</td>\n",
       "      <td>NaN</td>\n",
       "    </tr>\n",
       "    <tr>\n",
       "      <th>3</th>\n",
       "      <td>4</td>\n",
       "      <td>male</td>\n",
       "      <td>black</td>\n",
       "      <td>male</td>\n",
       "      <td>black</td>\n",
       "    </tr>\n",
       "    <tr>\n",
       "      <th>4</th>\n",
       "      <td>5</td>\n",
       "      <td>male</td>\n",
       "      <td>black</td>\n",
       "      <td>NaN</td>\n",
       "      <td>NaN</td>\n",
       "    </tr>\n",
       "  </tbody>\n",
       "</table>\n",
       "</div>"
      ],
      "text/plain": [
       "   raw_row_number subject_sex subject_race officer_sex officer_race\n",
       "0               1        male        black        male        white\n",
       "1               2        male     hispanic        male        white\n",
       "2               3      female        white         NaN          NaN\n",
       "3               4        male        black        male        black\n",
       "4               5        male        black         NaN          NaN"
      ]
     },
     "execution_count": 9,
     "metadata": {},
     "output_type": "execute_result"
    }
   ],
   "source": [
    "demo_df = df[['raw_row_number','subject_sex',\n",
    " 'subject_race','officer_sex',\n",
    " 'officer_race',\n",
    "        ]]\n",
    "demo_df.head()"
   ]
  },
  {
   "cell_type": "code",
   "execution_count": 10,
   "metadata": {},
   "outputs": [
    {
     "data": {
      "text/plain": [
       "raw_row_number    846456\n",
       "subject_sex       846121\n",
       "subject_race      224139\n",
       "officer_sex       786791\n",
       "officer_race      786791\n",
       "dtype: int64"
      ]
     },
     "execution_count": 10,
     "metadata": {},
     "output_type": "execute_result"
    }
   ],
   "source": [
    "demo_df.count()"
   ]
  },
  {
   "cell_type": "code",
   "execution_count": 11,
   "metadata": {},
   "outputs": [
    {
     "data": {
      "text/plain": [
       "raw_row_number    164434\n",
       "subject_sex       164434\n",
       "subject_race      164434\n",
       "officer_sex       164434\n",
       "officer_race      164434\n",
       "dtype: int64"
      ]
     },
     "execution_count": 11,
     "metadata": {},
     "output_type": "execute_result"
    }
   ],
   "source": [
    "demo_df = demo_df.dropna()\n",
    "demo_df.count()"
   ]
  },
  {
   "cell_type": "markdown",
   "metadata": {},
   "source": [
    "Demographics Analysis"
   ]
  },
  {
   "cell_type": "code",
   "execution_count": 12,
   "metadata": {},
   "outputs": [],
   "source": [
    "# row_number = demo_df['raw_row_number']\n",
    "# date = demo_df['date']\n",
    "# lat = demo_df['lat']\n",
    "# lng = demo_df['lng']\n",
    "# subject_age = demo_df['subject_age']\n",
    "# subject_race = demo_df['subject_race']\n",
    "# subject_sex = demo_df['subject_sex']\n",
    "# officer_age = demo_df['officer_age']\n",
    "# officer_race = demo_df['officer_race']\n",
    "# officer_sex = demo_df['officer_sex']"
   ]
  },
  {
   "cell_type": "code",
   "execution_count": 13,
   "metadata": {},
   "outputs": [],
   "source": [
    "#correlation between subject race & officer race"
   ]
  },
  {
   "cell_type": "code",
   "execution_count": 14,
   "metadata": {},
   "outputs": [
    {
     "data": {
      "text/plain": [
       "subject_race\n",
       "asian/pacific islander     1780\n",
       "black                     76035\n",
       "hispanic                  54554\n",
       "other                       143\n",
       "unknown                    1139\n",
       "white                     30783\n",
       "Name: raw_row_number, dtype: int64"
      ]
     },
     "execution_count": 14,
     "metadata": {},
     "output_type": "execute_result"
    }
   ],
   "source": [
    "groupbyrace = demo_df.groupby([\"subject_race\"]).count()\n",
    "groupbyrace = groupbyrace['raw_row_number']\n",
    "groupbyrace"
   ]
  },
  {
   "cell_type": "code",
   "execution_count": 15,
   "metadata": {},
   "outputs": [
    {
     "data": {
      "image/png": "[encoded data removed]",
      "text/plain": [
       "<Figure size 432x288 with 1 Axes>"
      ]
     },
     "metadata": {
      "needs_background": "light"
     },
     "output_type": "display_data"
    }
   ],
   "source": [
    "groupbyrace = groupbyrace.sort_values(ascending=False)\n",
    "\n",
    "# Create a bar chart based off of the group series from before\n",
    "racecounts = groupbyrace.plot(kind='bar')\n",
    "\n",
    "# Set the xlabel and ylabel using class methods\n",
    "racecounts.set_xlabel(\"Race\")\n",
    "racecounts.set_ylabel(\"Total Count\")\n",
    "racecounts.set_title(\"Crime Counts by Race (2012-2016)\")\n",
    "\n",
    "#show bar chart\n",
    "plt.tight_layout()\n",
    "# plt.savefig(\"../Images/micebar1.png\")\n",
    "plt.show()"
   ]
  },
  {
   "cell_type": "code",
   "execution_count": 16,
   "metadata": {},
   "outputs": [
    {
     "data": {
      "text/plain": [
       "Text(0, 0.5, 'Race')"
      ]
     },
     "execution_count": 16,
     "metadata": {},
     "output_type": "execute_result"
    },
    {
     "data": {
      "image/png": "[encoded data removed]",
      "text/plain": [
       "<Figure size 432x288 with 1 Axes>"
      ]
     },
     "metadata": {},
     "output_type": "display_data"
    }
   ],
   "source": [
    "#group clean_df by race\n",
    "groupbyrace.value_counts()\n",
    "\n",
    "#set color formatting\n",
    "colors=[\"blue\", \"orange\"]\n",
    "\n",
    "#Create the pie based upon the values above\n",
    "groupbyrace.plot(kind=\"pie\",autopct=\"%1.1f%%\")\n",
    "\n",
    "plt.title(\"Percentage of Crimes by Race (2012-2016)\")\n",
    "plt.ylabel(\"Race\")\n",
    "# plt.savefig(\"../Images/micepie1.png\")"
   ]
  },
  {
   "cell_type": "code",
   "execution_count": 17,
   "metadata": {},
   "outputs": [
    {
     "data": {
      "text/plain": [
       "raw_row_number    164434\n",
       "subject_sex       164434\n",
       "subject_race      164434\n",
       "officer_sex       164434\n",
       "officer_race      164434\n",
       "dtype: int64"
      ]
     },
     "execution_count": 17,
     "metadata": {},
     "output_type": "execute_result"
    }
   ],
   "source": [
    "demo_df.head()\n",
    "demo_df.count()"
   ]
  },
  {
   "cell_type": "code",
   "execution_count": null,
   "metadata": {},
   "outputs": [],
   "source": [
    "demo_df.plot(x='subject_race', kind=\"bar\", stacked=False)\n",
    "\n",
    "\n"
   ]
  },
  {
   "cell_type": "code",
   "execution_count": null,
   "metadata": {},
   "outputs": [],
   "source": []
  },
  {
   "cell_type": "code",
   "execution_count": 30,
   "metadata": {},
   "outputs": [
    {
     "data": {
      "text/plain": [
       "subject_race\n",
       "asian/pacific islander     1780\n",
       "black                     76035\n",
       "hispanic                  54554\n",
       "other                       143\n",
       "unknown                    1139\n",
       "white                     30783\n",
       "Name: officer_race, dtype: int64"
      ]
     },
     "execution_count": 30,
     "metadata": {},
     "output_type": "execute_result"
    }
   ],
   "source": [
    "groupbysubjectrace = demo_df.groupby([\"subject_race\"])\n",
    "groupbysubjectrace['officer_race'].count()"
   ]
  },
  {
   "cell_type": "code",
   "execution_count": 19,
   "metadata": {},
   "outputs": [],
   "source": [
    "racevsrace = groupbysubjectrace[\"officer_race\"].value_counts()\n",
    "racevsrace.index.name = None"
   ]
  },
  {
   "cell_type": "code",
   "execution_count": 20,
   "metadata": {},
   "outputs": [
    {
     "data": {
      "text/plain": [
       "subject_race            officer_race          \n",
       "asian/pacific islander  white                      1294\n",
       "                        hispanic                    240\n",
       "                        black                       168\n",
       "                        asian/pacific islander       44\n",
       "                        unknown                      32\n",
       "                        other                         2\n",
       "black                   white                     49267\n",
       "                        black                     12707\n",
       "                        hispanic                  11239\n",
       "                        asian/pacific islander     1702\n",
       "                        unknown                    1042\n",
       "                        other                        78\n",
       "hispanic                white                     41450\n",
       "                        hispanic                   7567\n",
       "                        black                      3453\n",
       "                        asian/pacific islander     1198\n",
       "                        unknown                     851\n",
       "                        other                        35\n",
       "other                   white                        88\n",
       "                        hispanic                     30\n",
       "                        black                        20\n",
       "                        asian/pacific islander        3\n",
       "                        unknown                       2\n",
       "unknown                 white                       797\n",
       "                        black                       171\n",
       "                        hispanic                    108\n",
       "                        unknown                      46\n",
       "                        asian/pacific islander       16\n",
       "                        other                         1\n",
       "white                   white                     24689\n",
       "                        hispanic                   2929\n",
       "                        black                      2004\n",
       "                        unknown                     689\n",
       "                        asian/pacific islander      466\n",
       "                        other                         6\n",
       "Name: officer_race, dtype: int64"
      ]
     },
     "execution_count": 20,
     "metadata": {},
     "output_type": "execute_result"
    }
   ],
   "source": [
    "racevsrace"
   ]
  },
  {
   "cell_type": "code",
   "execution_count": 21,
   "metadata": {},
   "outputs": [
    {
     "data": {
      "text/plain": [
       "<matplotlib.axes._subplots.AxesSubplot at 0x149d7a19100>"
      ]
     },
     "execution_count": 21,
     "metadata": {},
     "output_type": "execute_result"
    },
    {
     "data": {
      "image/png": "[encoded data removed]",
      "text/plain": [
       "<Figure size 432x288 with 1 Axes>"
      ]
     },
     "metadata": {
      "needs_background": "light"
     },
     "output_type": "display_data"
    }
   ],
   "source": [
    "racevsrace.plot(x='subject_race', kind=\"bar\", stacked=False)"
   ]
  },
  {
   "cell_type": "code",
   "execution_count": 42,
   "metadata": {},
   "outputs": [
    {
     "data": {
      "text/html": [
       "<div>\n",
       "<style scoped>\n",
       "    .dataframe tbody tr th:only-of-type {\n",
       "        vertical-align: middle;\n",
       "    }\n",
       "\n",
       "    .dataframe tbody tr th {\n",
       "        vertical-align: top;\n",
       "    }\n",
       "\n",
       "    .dataframe thead th {\n",
       "        text-align: right;\n",
       "    }\n",
       "</style>\n",
       "<table border=\"1\" class=\"dataframe\">\n",
       "  <thead>\n",
       "    <tr style=\"text-align: right;\">\n",
       "      <th></th>\n",
       "      <th>officer_race</th>\n",
       "      <th>count</th>\n",
       "    </tr>\n",
       "    <tr>\n",
       "      <th>subject_race</th>\n",
       "      <th></th>\n",
       "      <th></th>\n",
       "    </tr>\n",
       "  </thead>\n",
       "  <tbody>\n",
       "    <tr>\n",
       "      <th>asian/pacific islander</th>\n",
       "      <td>white</td>\n",
       "      <td>1294</td>\n",
       "    </tr>\n",
       "    <tr>\n",
       "      <th>asian/pacific islander</th>\n",
       "      <td>hispanic</td>\n",
       "      <td>240</td>\n",
       "    </tr>\n",
       "    <tr>\n",
       "      <th>asian/pacific islander</th>\n",
       "      <td>black</td>\n",
       "      <td>168</td>\n",
       "    </tr>\n",
       "    <tr>\n",
       "      <th>asian/pacific islander</th>\n",
       "      <td>asian/pacific islander</td>\n",
       "      <td>44</td>\n",
       "    </tr>\n",
       "    <tr>\n",
       "      <th>asian/pacific islander</th>\n",
       "      <td>unknown</td>\n",
       "      <td>32</td>\n",
       "    </tr>\n",
       "    <tr>\n",
       "      <th>asian/pacific islander</th>\n",
       "      <td>other</td>\n",
       "      <td>2</td>\n",
       "    </tr>\n",
       "    <tr>\n",
       "      <th>black</th>\n",
       "      <td>white</td>\n",
       "      <td>49267</td>\n",
       "    </tr>\n",
       "    <tr>\n",
       "      <th>black</th>\n",
       "      <td>black</td>\n",
       "      <td>12707</td>\n",
       "    </tr>\n",
       "    <tr>\n",
       "      <th>black</th>\n",
       "      <td>hispanic</td>\n",
       "      <td>11239</td>\n",
       "    </tr>\n",
       "    <tr>\n",
       "      <th>black</th>\n",
       "      <td>asian/pacific islander</td>\n",
       "      <td>1702</td>\n",
       "    </tr>\n",
       "    <tr>\n",
       "      <th>black</th>\n",
       "      <td>unknown</td>\n",
       "      <td>1042</td>\n",
       "    </tr>\n",
       "    <tr>\n",
       "      <th>black</th>\n",
       "      <td>other</td>\n",
       "      <td>78</td>\n",
       "    </tr>\n",
       "    <tr>\n",
       "      <th>hispanic</th>\n",
       "      <td>white</td>\n",
       "      <td>41450</td>\n",
       "    </tr>\n",
       "    <tr>\n",
       "      <th>hispanic</th>\n",
       "      <td>hispanic</td>\n",
       "      <td>7567</td>\n",
       "    </tr>\n",
       "    <tr>\n",
       "      <th>hispanic</th>\n",
       "      <td>black</td>\n",
       "      <td>3453</td>\n",
       "    </tr>\n",
       "    <tr>\n",
       "      <th>hispanic</th>\n",
       "      <td>asian/pacific islander</td>\n",
       "      <td>1198</td>\n",
       "    </tr>\n",
       "    <tr>\n",
       "      <th>hispanic</th>\n",
       "      <td>unknown</td>\n",
       "      <td>851</td>\n",
       "    </tr>\n",
       "    <tr>\n",
       "      <th>hispanic</th>\n",
       "      <td>other</td>\n",
       "      <td>35</td>\n",
       "    </tr>\n",
       "    <tr>\n",
       "      <th>other</th>\n",
       "      <td>white</td>\n",
       "      <td>88</td>\n",
       "    </tr>\n",
       "    <tr>\n",
       "      <th>other</th>\n",
       "      <td>hispanic</td>\n",
       "      <td>30</td>\n",
       "    </tr>\n",
       "    <tr>\n",
       "      <th>other</th>\n",
       "      <td>black</td>\n",
       "      <td>20</td>\n",
       "    </tr>\n",
       "    <tr>\n",
       "      <th>other</th>\n",
       "      <td>asian/pacific islander</td>\n",
       "      <td>3</td>\n",
       "    </tr>\n",
       "    <tr>\n",
       "      <th>other</th>\n",
       "      <td>unknown</td>\n",
       "      <td>2</td>\n",
       "    </tr>\n",
       "    <tr>\n",
       "      <th>unknown</th>\n",
       "      <td>white</td>\n",
       "      <td>797</td>\n",
       "    </tr>\n",
       "    <tr>\n",
       "      <th>unknown</th>\n",
       "      <td>black</td>\n",
       "      <td>171</td>\n",
       "    </tr>\n",
       "    <tr>\n",
       "      <th>unknown</th>\n",
       "      <td>hispanic</td>\n",
       "      <td>108</td>\n",
       "    </tr>\n",
       "    <tr>\n",
       "      <th>unknown</th>\n",
       "      <td>unknown</td>\n",
       "      <td>46</td>\n",
       "    </tr>\n",
       "    <tr>\n",
       "      <th>unknown</th>\n",
       "      <td>asian/pacific islander</td>\n",
       "      <td>16</td>\n",
       "    </tr>\n",
       "    <tr>\n",
       "      <th>unknown</th>\n",
       "      <td>other</td>\n",
       "      <td>1</td>\n",
       "    </tr>\n",
       "    <tr>\n",
       "      <th>white</th>\n",
       "      <td>white</td>\n",
       "      <td>24689</td>\n",
       "    </tr>\n",
       "    <tr>\n",
       "      <th>white</th>\n",
       "      <td>hispanic</td>\n",
       "      <td>2929</td>\n",
       "    </tr>\n",
       "    <tr>\n",
       "      <th>white</th>\n",
       "      <td>black</td>\n",
       "      <td>2004</td>\n",
       "    </tr>\n",
       "    <tr>\n",
       "      <th>white</th>\n",
       "      <td>unknown</td>\n",
       "      <td>689</td>\n",
       "    </tr>\n",
       "    <tr>\n",
       "      <th>white</th>\n",
       "      <td>asian/pacific islander</td>\n",
       "      <td>466</td>\n",
       "    </tr>\n",
       "    <tr>\n",
       "      <th>white</th>\n",
       "      <td>other</td>\n",
       "      <td>6</td>\n",
       "    </tr>\n",
       "  </tbody>\n",
       "</table>\n",
       "</div>"
      ],
      "text/plain": [
       "                                  officer_race  count\n",
       "subject_race                                         \n",
       "asian/pacific islander                   white   1294\n",
       "asian/pacific islander                hispanic    240\n",
       "asian/pacific islander                   black    168\n",
       "asian/pacific islander  asian/pacific islander     44\n",
       "asian/pacific islander                 unknown     32\n",
       "asian/pacific islander                   other      2\n",
       "black                                    white  49267\n",
       "black                                    black  12707\n",
       "black                                 hispanic  11239\n",
       "black                   asian/pacific islander   1702\n",
       "black                                  unknown   1042\n",
       "black                                    other     78\n",
       "hispanic                                 white  41450\n",
       "hispanic                              hispanic   7567\n",
       "hispanic                                 black   3453\n",
       "hispanic                asian/pacific islander   1198\n",
       "hispanic                               unknown    851\n",
       "hispanic                                 other     35\n",
       "other                                    white     88\n",
       "other                                 hispanic     30\n",
       "other                                    black     20\n",
       "other                   asian/pacific islander      3\n",
       "other                                  unknown      2\n",
       "unknown                                  white    797\n",
       "unknown                                  black    171\n",
       "unknown                               hispanic    108\n",
       "unknown                                unknown     46\n",
       "unknown                 asian/pacific islander     16\n",
       "unknown                                  other      1\n",
       "white                                    white  24689\n",
       "white                                 hispanic   2929\n",
       "white                                    black   2004\n",
       "white                                  unknown    689\n",
       "white                   asian/pacific islander    466\n",
       "white                                    other      6"
      ]
     },
     "execution_count": 42,
     "metadata": {},
     "output_type": "execute_result"
    }
   ],
   "source": [
    "racevsrace_df = pd.DataFrame(racevsrace)\n",
    "racevsrace_df = racevsrace_df.rename(columns={\"officer_race\": \"count\"})\n",
    "racevsrace_df = racevsrace_df.reset_index(level=\"officer_race\")\n",
    "racevsrace_df"
   ]
  },
  {
   "cell_type": "code",
   "execution_count": 44,
   "metadata": {},
   "outputs": [
    {
     "data": {
      "text/plain": [
       "<matplotlib.axes._subplots.AxesSubplot at 0x149e5620c40>"
      ]
     },
     "execution_count": 44,
     "metadata": {},
     "output_type": "execute_result"
    },
    {
     "data": {
      "image/png": "[encoded data removed]",
      "text/plain": [
       "<Figure size 432x288 with 1 Axes>"
      ]
     },
     "metadata": {
      "needs_background": "light"
     },
     "output_type": "display_data"
    }
   ],
   "source": [
    "# racevsrace_df.plot(x=\"\", kind=\"bar\", stacked=True)\n",
    "racevsrace_df.plot.bar(rot=0)"
   ]
  },
  {
   "cell_type": "code",
   "execution_count": 37,
   "metadata": {},
   "outputs": [],
   "source": [
    "x = [\"asian/pacific islander\", \"black\", \"hispanic\", \"other\", \"unknown\", \"white\"]"
   ]
  },
  {
   "cell_type": "code",
   "execution_count": 70,
   "metadata": {},
   "outputs": [
    {
     "data": {
      "image/png": "[encoded data removed]",
      "text/plain": [
       "<Figure size 1440x360 with 1 Axes>"
      ]
     },
     "metadata": {
      "needs_background": "light"
     },
     "output_type": "display_data"
    },
    {
     "data": {
      "text/plain": [
       "<Figure size 432x288 with 0 Axes>"
      ]
     },
     "metadata": {},
     "output_type": "display_data"
    }
   ],
   "source": [
    "# Pandas can also plot multiple columns if the DataFrame includes them\n",
    "multi_plot = racevsrace_df.plot(kind=\"bar\", figsize=(20,5))\n",
    "\n",
    "# PandasPlot.set_xticklabels() can be used to set the tick labels as well\n",
    "multi_plot.set_xticklabels(, rotation=45)\n",
    "\n",
    "plt.show()\n",
    "plt.tight_layout()"
   ]
  },
  {
   "cell_type": "code",
   "execution_count": 16,
   "metadata": {},
   "outputs": [],
   "source": []
  },
  {
   "cell_type": "code",
   "execution_count": null,
   "metadata": {},
   "outputs": [],
   "source": []
  },
  {
   "cell_type": "code",
   "execution_count": null,
   "metadata": {},
   "outputs": [],
   "source": []
  },
  {
   "cell_type": "code",
   "execution_count": null,
   "metadata": {},
   "outputs": [],
   "source": []
  }
 ],
 "metadata": {
  "kernelspec": {
   "display_name": "Python 3",
   "language": "python",
   "name": "python3"
  },
  "language_info": {
   "codemirror_mode": {
    "name": "ipython",
    "version": 3
   },
   "file_extension": ".py",
   "mimetype": "text/x-python",
   "name": "python",
   "nbconvert_exporter": "python",
   "pygments_lexer": "ipython3",
   "version": "3.8.3"
  }
 },
 "nbformat": 4,
 "nbformat_minor": 4
}
